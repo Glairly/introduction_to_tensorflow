{
 "cells": [
  {
   "cell_type": "markdown",
   "metadata": {
    "colab_type": "text",
    "id": "9qO--YcmIOzj"
   },
   "source": [
    "# TPU Fundamentals\n",
    "\n",
    "This codelab will walk you through the creation of a simple model using the TF-TPU programming primitives.  We also demonstrate how to use the TPUEstimator and Keras APIs to simplify common training tasks.\n",
    "\n",
    "For most models, we recommend using the high-level APIs, but understanding the underlying TPU programming model is important for debugging or for advanced/custom training scenarios."
   ]
  },
  {
   "cell_type": "code",
   "execution_count": 3,
   "metadata": {
    "colab": {
     "base_uri": "https://localhost:8080/",
     "height": 221
    },
    "colab_type": "code",
    "id": "Wc7mMgRgI3mY",
    "outputId": "8d720594-3165-4975-836c-4a9534732d71"
   },
   "outputs": [
    {
     "data": {
      "text/plain": [
       "[_DeviceAttributes(/job:tpu_worker/replica:0/task:0/device:CPU:0, CPU, -1, 17773598204717337066),\n",
       " _DeviceAttributes(/job:tpu_worker/replica:0/task:0/device:XLA_CPU:0, XLA_CPU, 17179869184, 7715168056069560432),\n",
       " _DeviceAttributes(/job:tpu_worker/replica:0/task:0/device:XLA_GPU:0, XLA_GPU, 17179869184, 9710519241479157132),\n",
       " _DeviceAttributes(/job:tpu_worker/replica:0/task:0/device:TPU:0, TPU, 17179869184, 1102187703362188373),\n",
       " _DeviceAttributes(/job:tpu_worker/replica:0/task:0/device:TPU:1, TPU, 17179869184, 5891516886372362302),\n",
       " _DeviceAttributes(/job:tpu_worker/replica:0/task:0/device:TPU:2, TPU, 17179869184, 16333408726241456713),\n",
       " _DeviceAttributes(/job:tpu_worker/replica:0/task:0/device:TPU:3, TPU, 17179869184, 14387177117624451294),\n",
       " _DeviceAttributes(/job:tpu_worker/replica:0/task:0/device:TPU:4, TPU, 17179869184, 18168976666150053870),\n",
       " _DeviceAttributes(/job:tpu_worker/replica:0/task:0/device:TPU:5, TPU, 17179869184, 6826354838121806651),\n",
       " _DeviceAttributes(/job:tpu_worker/replica:0/task:0/device:TPU:6, TPU, 17179869184, 1793642356151583892),\n",
       " _DeviceAttributes(/job:tpu_worker/replica:0/task:0/device:TPU:7, TPU, 17179869184, 96424228969095596),\n",
       " _DeviceAttributes(/job:tpu_worker/replica:0/task:0/device:TPU_SYSTEM:0, TPU_SYSTEM, 17179869184, 8807202679840317663)]"
      ]
     },
     "execution_count": 3,
     "metadata": {},
     "output_type": "execute_result"
    }
   ],
   "source": [
    "import numpy as np\n",
    "import six\n",
    "import tensorflow as tf\n",
    "import time\n",
    "import os\n",
    "\n",
    "WORKER_NAME = \"laktpu\" #@param {type:\"string\"}\n",
    "\n",
    "TPU_WORKER = tf.contrib.cluster_resolver.TPUClusterResolver(\n",
    "    WORKER_NAME\n",
    ").get_master()\n",
    "\n",
    "session = tf.Session(TPU_WORKER)\n",
    "session.list_devices()"
   ]
  },
  {
   "cell_type": "markdown",
   "metadata": {
    "colab_type": "text",
    "id": "1nO8m-SxIlNo"
   },
   "source": [
    "## What makes TPU modeling special?\n",
    "\n",
    "Writing TensorFlow models for the TPU differs from the CPU and GPU modeling you may be familiar with in a few important ways:\n",
    "\n",
    "Model functions are just-in-time compiled to run on the device.\n",
    "Almost all models are replicated by default, using synchronous in-graph replication (go/tf-strong-sync).\n",
    "An early goal of the TPU program was the ability to scale up. Individual TPU cores are powerful (~70 TFlops per core in the DragonFish generation), but the specialized network and hardware transfer support truly distinguish TPUs from other devices. The interconnect between TPU chips is an order of magnitude faster and lower-latency than the normal datacenter network fabric. This allows us to build models that scale up transparently using batch parallelism and synchronous replication.\n",
    "\n",
    "The TF-TPU programming model is designed to help your TF model take advantage of this scaling ability. Some models can scale to the size of an entire TPU pod (2048 cores!). To utilize TPUs effectively we need to make a few changes to how we develop our models, which we'll cover below."
   ]
  },
  {
   "cell_type": "markdown",
   "metadata": {
    "colab_type": "text",
    "id": "Ejy438SBIlVW"
   },
   "source": [
    "## tpu.rewrite and model functions\n",
    "\n",
    "We refer to the portion of a TF model that runs on the TPU as a \"model function\". Most programs have a single model function which computes the training step for your model. Explicitly encapsulating the TPU related logic in a model function allows the TPU software stack to compile your model and implicitly replicate it across multiple TPU cores in a cluster. Let's start with a simple model function that adds two tensors."
   ]
  },
  {
   "cell_type": "code",
   "execution_count": 2,
   "metadata": {
    "colab": {},
    "colab_type": "code",
    "id": "r28ozZedINJZ"
   },
   "outputs": [],
   "source": [
    "def add(x, y):\n",
    "  return x + y"
   ]
  },
  {
   "cell_type": "markdown",
   "metadata": {
    "colab_type": "text",
    "id": "lA5S5EnuIyxo"
   },
   "source": [
    "This model takes 2 arguments and adds them together. Obviously this isn't a terribly interesting use of a TPU but we can run this model on the TPU nevertheless! We first need to wrap our model with a call to tpu.rewrite:"
   ]
  },
  {
   "cell_type": "code",
   "execution_count": 3,
   "metadata": {
    "colab": {},
    "colab_type": "code",
    "id": "rmNDNCF5Iv_B"
   },
   "outputs": [],
   "source": [
    "x = tf.placeholder(name='x', dtype=tf.float32)\n",
    "y = tf.placeholder(name='y', dtype=tf.float32)\n",
    "tpu_add = tf.contrib.tpu.rewrite(add, [x, y])"
   ]
  },
  {
   "cell_type": "markdown",
   "metadata": {
    "colab_type": "text",
    "id": "MEFqNBPYI_zH"
   },
   "source": [
    "What's happening here? The tpu.rewrite call returns a version of our original function which is ready to be executed on the TPU. Now we can run it on our device!\n",
    "\n",
    "Note the initialize_system call. These are necessary to reset the TPU hardware. In the future, this initialization should occur automatically, but for now remember that you'll need to call them to initialize your session."
   ]
  },
  {
   "cell_type": "code",
   "execution_count": 4,
   "metadata": {
    "colab": {
     "base_uri": "https://localhost:8080/",
     "height": 34
    },
    "colab_type": "code",
    "id": "YoQb33EBJAYZ",
    "outputId": "1d1501d1-a820-4b0e-ae9f-d47db47a2c8d"
   },
   "outputs": [
    {
     "data": {
      "text/plain": [
       "b'\\n\\x03\\x02\\x02\\x02\\x10\\x01\\x18\\x08\"\\x18\\x00\\x00\\x00\\x00\\x00\\x01\\x00\\x01\\x00\\x00\\x01\\x01\\x01\\x00\\x00\\x01\\x00\\x01\\x01\\x01\\x00\\x01\\x01\\x01'"
      ]
     },
     "execution_count": 4,
     "metadata": {},
     "output_type": "execute_result"
    }
   ],
   "source": [
    "session.run(tf.contrib.tpu.initialize_system())"
   ]
  },
  {
   "cell_type": "code",
   "execution_count": 5,
   "metadata": {
    "colab": {
     "base_uri": "https://localhost:8080/",
     "height": 51
    },
    "colab_type": "code",
    "id": "nW3sazRcOJo0",
    "outputId": "d46a51dd-c9b4-4048-9435-88133368e063"
   },
   "outputs": [
    {
     "name": "stdout",
     "output_type": "stream",
     "text": [
      "Result of TPU computation: %s [array([ 1.,  2.,  3.,  4.,  5.,  6.,  7.,  8.,  9., 10., 11., 12., 13.,\n",
      "       14., 15., 16.], dtype=float32)]\n"
     ]
    }
   ],
   "source": [
    "z = session.run(tpu_add, {x: np.arange(16), y: np.ones(16)})\n",
    "print('Result of TPU computation: %s', z)"
   ]
  },
  {
   "cell_type": "markdown",
   "metadata": {
    "colab_type": "text",
    "id": "M8uaFrTgJKJB"
   },
   "source": [
    "## Running Logistic Regression\n",
    "\n",
    "Our first example wasn't very exciting. After all, we're interested in using the TPU to train models, not add tensors together. Let's change our model to learn a simple classifier via logistic regression.\n",
    "\n",
    "We'll use the well known MNIST dataset (easily imported via tf.keras.datasets), and to keep things as simple as possible, we will use a single fully connected layer to make our predictions."
   ]
  },
  {
   "cell_type": "code",
   "execution_count": 6,
   "metadata": {
    "colab": {},
    "colab_type": "code",
    "id": "bqE_SYCuJWWZ"
   },
   "outputs": [],
   "source": [
    "IMAGE_SIZE = 28 * 28\n",
    "NUM_LABELS = 10\n",
    "\n",
    "(x_train, y_train), (x_test, y_test) = tf.keras.datasets.mnist.load_data()\n",
    "x_train.shape, y_train.shape\n",
    "y_train = y_train.astype(np.int32)\n",
    "y_test = y_test.astype(np.int32)"
   ]
  },
  {
   "cell_type": "code",
   "execution_count": 7,
   "metadata": {
    "colab": {},
    "colab_type": "code",
    "id": "pmJbSakFL_Yx"
   },
   "outputs": [],
   "source": [
    "def fit_batch(img, labels):\n",
    "  with tf.variable_scope('tpu', reuse=tf.AUTO_REUSE):\n",
    "    # flatten images\n",
    "    x = tf.reshape(img, [-1, IMAGE_SIZE])\n",
    "    \n",
    "    W = tf.get_variable('W', [28*28, 10])  # pylint: disable=invalid-name\n",
    "    b = tf.get_variable('b', [10], initializer=tf.zeros_initializer)\n",
    "    logits = tf.matmul(x, W) + b\n",
    "    print(img, logits, labels)\n",
    "    loss = tf.losses.sparse_softmax_cross_entropy(labels, logits)\n",
    "    optimizer = tf.train.AdamOptimizer(learning_rate=0.1)\n",
    "    optimizer = tf.contrib.tpu.CrossShardOptimizer(optimizer)\n",
    "\n",
    "    return loss, optimizer.minimize(loss, tf.train.get_or_create_global_step())"
   ]
  },
  {
   "cell_type": "markdown",
   "metadata": {
    "colab_type": "text",
    "id": "NWyumYURJbBS"
   },
   "source": [
    "The only unusual part of our model above the use of `CrossShardOptimizer`: this wraps a standard TF optimizer and allows us to train on multiple cores simultaneously (we'll demonstrate that below).\n",
    "\n",
    "And now we can train our model!  Note we use `tpu.rewrite` again to create a TPU version of our computation.  We'll only use the first 1000 images from our training data for this example."
   ]
  },
  {
   "cell_type": "code",
   "execution_count": 8,
   "metadata": {
    "colab": {
     "base_uri": "https://localhost:8080/",
     "height": 139
    },
    "colab_type": "code",
    "id": "xD1_aDfSJffS",
    "outputId": "4f1359c8-f057-47be-d61c-8943a6dda60b"
   },
   "outputs": [
    {
     "name": "stdout",
     "output_type": "stream",
     "text": [
      "Tensor(\"replicated_input_0_1:0\", shape=(?, 28, 28), dtype=float32) Tensor(\"tpu/add:0\", shape=(?, 10), dtype=float32) Tensor(\"replicated_input_1_1:0\", shape=(?,), dtype=int32)\n",
      "loss = [232.20671]\n",
      "loss = [431.7398]\n",
      "loss = [155.93834]\n",
      "loss = [71.937035]\n",
      "loss = [38.307476]\n"
     ]
    }
   ],
   "source": [
    "images = tf.placeholder(name='images', dtype=tf.float32, shape=[None, 28, 28])\n",
    "labels = tf.placeholder(name='labels', dtype=tf.int32, shape=[None,])\n",
    "\n",
    "fit_on_tpu = tf.contrib.tpu.rewrite(fit_batch, [images, labels])\n",
    "\n",
    "session.run(tf.global_variables_initializer())\n",
    "for i in range(50):\n",
    "  loss = session.run(fit_on_tpu, {\n",
    "      images: x_train[:1000], labels: y_train[:1000]\n",
    "  })\n",
    "  if i % 10 == 0:\n",
    "    print('loss = %s' % loss)"
   ]
  },
  {
   "cell_type": "markdown",
   "metadata": {
    "colab_type": "text",
    "id": "VoDS1CuLJdxq"
   },
   "source": [
    "Now we can sample predictions from our test set to see how well we're doing:"
   ]
  },
  {
   "cell_type": "code",
   "execution_count": 9,
   "metadata": {
    "colab": {},
    "colab_type": "code",
    "id": "5drMu5d-KAgi"
   },
   "outputs": [],
   "source": [
    "def predict(img):\n",
    "  with tf.variable_scope('tpu', reuse=tf.AUTO_REUSE):\n",
    "    # flatten images\n",
    "    x = tf.reshape(img, [-1, IMAGE_SIZE])\n",
    "    \n",
    "    W = tf.get_variable('W', [28*28, 10])  # pylint: disable=invalid-name\n",
    "    b = tf.get_variable('b', [10], initializer=tf.zeros_initializer)\n",
    "    logits = tf.matmul(x, W) + b\n",
    "    return tf.nn.softmax(logits)\n",
    "\n",
    "predict_on_tpu = tf.contrib.tpu.rewrite(predict, [images,])"
   ]
  },
  {
   "cell_type": "code",
   "execution_count": 10,
   "metadata": {
    "colab": {
     "base_uri": "https://localhost:8080/",
     "height": 486
    },
    "colab_type": "code",
    "id": "Tr2ThERwSMeG",
    "outputId": "7de87c93-ac67-46f5-99c6-d9a415b1fc29"
   },
   "outputs": [
    {
     "data": {
      "image/png": "[encoded data removed]",
      "text/plain": [
       "<Figure size 432x576 with 32 Axes>"
      ]
     },
     "metadata": {},
     "output_type": "display_data"
    }
   ],
   "source": [
    "from matplotlib import pyplot\n",
    "%matplotlib inline\n",
    "\n",
    "def plot_predictions(images, predictions):\n",
    "  f, axes = pyplot.subplots(16, 2)\n",
    "  for i in range(16):\n",
    "    axes[i, 0].bar(np.arange(10), predictions[i])\n",
    "    axes[i, 1].imshow(images[i])\n",
    "    axes[i, 1].axis('off')\n",
    "\n",
    "    if i != 15:\n",
    "      axes[i, 0].axis('off')\n",
    "    else:\n",
    "      axes[i, 0].get_yaxis().set_visible(False)\n",
    "  pyplot.gcf().set_size_inches(6, 8)  \n",
    "\n",
    "\n",
    "[predictions] = session.run(predict_on_tpu, {\n",
    "    images: x_test[:16],\n",
    "})\n",
    "plot_predictions(x_test[:16], predictions)"
   ]
  },
  {
   "cell_type": "markdown",
   "metadata": {
    "colab_type": "text",
    "id": "B1fL6RDWVDnq"
   },
   "source": [
    "We can see our network has quickly converged towards mostly correct observations!"
   ]
  },
  {
   "cell_type": "markdown",
   "metadata": {
    "colab_type": "text",
    "id": "JtwTIhtXVSwK"
   },
   "source": [
    "## Using Multiple TPU Cores with Batch Parallelism\n",
    "\n",
    "Up until this point our models have only been running on a single TPU core.  This is wasting a lot of the power of TPUs!\n",
    "\n",
    "Let's change that so we can take advantage of our entire TPU device (8 cores). Scaling up to multiple cores with TPUs uses a different mechanism than the asynchronous out of graph replication used in CPU deployments. With TPUs, the software stack handles the replication for you: this is important to keep in mind, as you must use the builtin TPU replication to take advantage of the specialized TPU network. Fortunately TPU replication is easy to use. \n",
    "\n",
    "We just replace `tpu.rewrite` with `tpu.batch_parallel`: the TPU system handles the rest!  We just need to make sure our batches are divisible by the number of cores (8)."
   ]
  },
  {
   "cell_type": "code",
   "execution_count": 11,
   "metadata": {
    "colab": {
     "base_uri": "https://localhost:8080/",
     "height": 224
    },
    "colab_type": "code",
    "id": "LfQOOdO3TnYH",
    "outputId": "a73573db-4c7f-4a6d-a156-e0e5e269d38f"
   },
   "outputs": [
    {
     "name": "stdout",
     "output_type": "stream",
     "text": [
      "Tensor(\"replicated_input_0_3:0\", shape=(?, 28, 28), dtype=float32) Tensor(\"tpu_2/add:0\", shape=(?, 10), dtype=float32) Tensor(\"replicated_input_1_2:0\", shape=(?,), dtype=int32)\n",
      "loss = 166.694077 [array([163.0523 , 144.5979 , 164.59166, 162.33806, 165.97234, 186.97296,\n",
      "       169.37622, 176.65114], dtype=float32)]\n",
      "loss = 375.441833 [array([407.09512, 377.64536, 362.78525, 262.08066, 316.60074, 465.14825,\n",
      "       377.2031 , 434.97623], dtype=float32)]\n",
      "loss = 130.799042 [array([ 92.44463 ,  82.570015, 135.40613 , 104.12831 , 174.28824 ,\n",
      "        64.86359 , 175.1331  , 217.55833 ], dtype=float32)]\n",
      "loss = 42.901794 [array([75.510376, 12.122637, 34.710434, 15.478931, 36.888874, 27.621033,\n",
      "       82.39092 , 58.49115 ], dtype=float32)]\n",
      "loss = 13.986987 [array([10.711948 ,  6.426794 , 15.038361 ,  5.8103333,  1.3755245,\n",
      "       16.995008 , 35.589947 , 19.947977 ], dtype=float32)]\n"
     ]
    }
   ],
   "source": [
    "fit_multi_on_tpu = tf.contrib.tpu.batch_parallel(fit_batch, [images, labels], num_shards=8)\n",
    "\n",
    "session.run(tf.global_variables_initializer())\n",
    "for i in range(50):\n",
    "  loss = session.run(fit_multi_on_tpu, {\n",
    "      images: x_train[:1024], labels: y_train[:1024]\n",
    "  })\n",
    "  if i % 10 == 0:\n",
    "    print('loss = %f %s' % (np.mean(loss), loss))"
   ]
  },
  {
   "cell_type": "code",
   "execution_count": 12,
   "metadata": {
    "colab": {
     "base_uri": "https://localhost:8080/",
     "height": 486
    },
    "colab_type": "code",
    "id": "ho8JwvZmXA_O",
    "outputId": "c0e265bc-b87d-4cc0-cb8e-b5b1bccad421"
   },
   "outputs": [
    {
     "data": {
      "image/png": "[encoded data removed]",
      "text/plain": [
       "<Figure size 432x576 with 32 Axes>"
      ]
     },
     "metadata": {},
     "output_type": "display_data"
    }
   ],
   "source": [
    "[predictions] = session.run(predict_on_tpu, {\n",
    "    images: x_test[:16], labels: y_train[:16]\n",
    "})\n",
    "\n",
    "plot_predictions(x_test[:16], predictions)"
   ]
  },
  {
   "cell_type": "markdown",
   "metadata": {
    "colab_type": "text",
    "id": "_QyUkT7EWe-2"
   },
   "source": [
    "If you're paying close attention to the output on this run, you may notice that our print statement for loss is now reporting 8 values instead of a single scalar! tpu.batch_parallel concatenates the output from each core to return a result. We are thus seeing the loss computed by each individual TPU core. Our CrossShardOptimizer takes care of averaging our gradients, but we must average the loss on the CPU if we want to obtain a single scalar value:"
   ]
  },
  {
   "cell_type": "markdown",
   "metadata": {
    "colab_type": "text",
    "id": "AFo30YsXTqYP"
   },
   "source": [
    "## Using Infeed and Outfeed\n",
    "\n",
    "In our previous examples, our TPU execution looked something like this:\n",
    "\n",
    "![alt text](https://screenshot.googleplex.com/j4PwT4FtE2n.png)\n",
    "\n",
    "Between each call to fit the TPU device is idle waiting for the CPU. If we could queue inputs and outputs, the TPU could work on new data while the CPU is working. Depending on our model, we may be able to entirely decouple the CPU and TPU training: the CPU feeds data and pulls out loss values, and the TPU runs the training independently as long as data is available:\n",
    "\n",
    "![queue based TPU execution](https://screenshot.googleplex.com/Oae4fq6kVm7.png)"
   ]
  },
  {
   "cell_type": "code",
   "execution_count": 13,
   "metadata": {
    "colab": {},
    "colab_type": "code",
    "id": "TjqB9BNlXgYd"
   },
   "outputs": [],
   "source": [
    "BATCH_SIZE = 1024\n",
    "\n",
    "def fit_batch_with_infeed():\n",
    "  \"\"\"Train one batch, reading from infeed and writing to outfeed.\"\"\"\n",
    "  \n",
    "  # each core will read 1/8 of the total batch size\n",
    "  images, labels = tf.contrib.tpu.infeed_dequeue_tuple(\n",
    "      dtypes=[tf.float32, tf.int32],\n",
    "      shapes=[(BATCH_SIZE // 8, 28, 28,), (BATCH_SIZE // 8,)],\n",
    "      name='infeed_dequeue')\n",
    "  loss, train_op = fit_batch(images, labels)\n",
    "  return tf.contrib.tpu.outfeed_enqueue_tuple((loss,)), train_op"
   ]
  },
  {
   "cell_type": "markdown",
   "metadata": {
    "colab_type": "text",
    "id": "z4_Tsh2OYD2_"
   },
   "source": [
    "Note we can still re-use our original training function!  We've just wrapped it in the logic to remove batches from the infeed and push our loss onto the outfeed.  We return both the minimize operation and the enqueue operation from our model function to ensure that both are run as part of the TPU program.\n",
    "\n",
    "Now let's look at the CPU side. Note that we need an enqueue/dequeue operation for each TPU core. We use the standard tf.device scope to assign our operations to a given core:"
   ]
  },
  {
   "cell_type": "code",
   "execution_count": 16,
   "metadata": {
    "colab": {
     "height": 286
    },
    "colab_type": "code",
    "id": "jAJZL-i6YEwW",
    "outputId": "d70ca13c-5eba-4a66-b7e4-a88c5d9f427b"
   },
   "outputs": [
    {
     "data": {
      "text/plain": [
       "[[<tf.Operation 'InfeedEnqueueTuple' type=InfeedEnqueueTuple>,\n",
       "  <tf.Operation 'InfeedEnqueueTuple_1' type=InfeedEnqueueTuple>,\n",
       "  <tf.Operation 'InfeedEnqueueTuple_2' type=InfeedEnqueueTuple>,\n",
       "  <tf.Operation 'InfeedEnqueueTuple_3' type=InfeedEnqueueTuple>,\n",
       "  <tf.Operation 'InfeedEnqueueTuple_4' type=InfeedEnqueueTuple>,\n",
       "  <tf.Operation 'InfeedEnqueueTuple_5' type=InfeedEnqueueTuple>,\n",
       "  <tf.Operation 'InfeedEnqueueTuple_6' type=InfeedEnqueueTuple>,\n",
       "  <tf.Operation 'InfeedEnqueueTuple_7' type=InfeedEnqueueTuple>],\n",
       " [[<tf.Tensor 'OutfeedDequeueTuple:0' shape=() dtype=float32>],\n",
       "  [<tf.Tensor 'OutfeedDequeueTuple_1:0' shape=() dtype=float32>],\n",
       "  [<tf.Tensor 'OutfeedDequeueTuple_2:0' shape=() dtype=float32>],\n",
       "  [<tf.Tensor 'OutfeedDequeueTuple_3:0' shape=() dtype=float32>],\n",
       "  [<tf.Tensor 'OutfeedDequeueTuple_4:0' shape=() dtype=float32>],\n",
       "  [<tf.Tensor 'OutfeedDequeueTuple_5:0' shape=() dtype=float32>],\n",
       "  [<tf.Tensor 'OutfeedDequeueTuple_6:0' shape=() dtype=float32>],\n",
       "  [<tf.Tensor 'OutfeedDequeueTuple_7:0' shape=() dtype=float32>]]]"
      ]
     },
     "execution_count": 16,
     "metadata": {},
     "output_type": "execute_result"
    }
   ],
   "source": [
    "from tensorflow.contrib.tpu.ops.gen_tpu_ops import infeed_enqueue_tuple, outfeed_dequeue_tuple\n",
    "\n",
    "def setup_feed(image_batch, label_batch):\n",
    "  \"\"\"Generate TF operations for CPU side infeed and outfeed.\"\"\"\n",
    "  infeed_ops = []\n",
    "  outfeed_ops = []\n",
    "  \n",
    "  # Split our input into 8 pieces and infeed each sub-batch  \n",
    "  infeed_batches = list(zip(tf.split(image_batch, 8), tf.split(label_batch, 8)))\n",
    "  \n",
    "  for i in range(8):\n",
    "    infeed_op = infeed_enqueue_tuple(\n",
    "      infeed_batches[i],\n",
    "      [b.shape for b in infeed_batches[i]],\n",
    "      device_ordinal=i\n",
    "    )\n",
    "    infeed_ops.append(infeed_op)\n",
    "    \n",
    "    outfeed_op = outfeed_dequeue_tuple(\n",
    "        dtypes=[tf.float32], shapes=[[]], device_ordinal=i)\n",
    "    outfeed_ops.append(outfeed_op)\n",
    "\n",
    "  return [infeed_ops, outfeed_ops]\n",
    "\n",
    "setup_feed(tf.placeholder(tf.float32, [1024, 28*28]),\n",
    "           tf.placeholder(tf.int32, [1024]))"
   ]
  },
  {
   "cell_type": "code",
   "execution_count": 17,
   "metadata": {
    "colab": {
     "height": 654
    },
    "colab_type": "code",
    "id": "jUh_2F8qZCZY",
    "outputId": "93f68150-b060-4d9f-8a4a-31c8b0ba23ca"
   },
   "outputs": [
    {
     "name": "stdout",
     "output_type": "stream",
     "text": [
      "Tensor(\"infeed_dequeue_1:0\", shape=(128, 28, 28), dtype=float32) Tensor(\"tpu_4/add:0\", shape=(128, 10), dtype=float32) Tensor(\"infeed_dequeue_1:1\", shape=(128,), dtype=int32)\n",
      "priming infeed\n",
      "loss = 182.433533\n",
      "loss = 376.260010\n",
      "loss = 145.241806\n",
      "loss = 54.118515\n",
      "loss = 21.477819\n",
      "final loss = 7.697616\n"
     ]
    },
    {
     "data": {
      "image/png": "[encoded data removed]",
      "text/plain": [
       "<Figure size 432x576 with 32 Axes>"
      ]
     },
     "metadata": {},
     "output_type": "display_data"
    }
   ],
   "source": [
    "# Replicate our model function onto 8 cores (with no inputs)\n",
    "fit_with_infeed = tf.contrib.tpu.batch_parallel(\n",
    "    fit_batch_with_infeed, num_shards=8)\n",
    "\n",
    "\n",
    "# Infeed requires a static shape for inputs.  We create a new set of placeholders\n",
    "# here with a fixed batch size.\n",
    "image_batch = tf.placeholder(name='images', dtype=tf.float32, shape=[BATCH_SIZE, 28, 28])\n",
    "label_batch = tf.placeholder(name='labels', dtype=tf.int32, shape=[BATCH_SIZE,])\n",
    "\n",
    "session.run(tf.global_variables_initializer())\n",
    "infeed_ops, outfeed_ops = setup_feed(image_batch, label_batch)\n",
    "\n",
    "# # Start training.  We first push a batch of data on the infeed so the device\n",
    "# # is working while we're getting the next batch ready.\n",
    "print('priming infeed')\n",
    "session.run(tf.group(infeed_ops), {image_batch: x_train[:BATCH_SIZE], \n",
    "                                   label_batch: y_train[:BATCH_SIZE]})\n",
    "\n",
    "for i in range(50):\n",
    "  _, _, loss = session.run(\n",
    "      [tf.group(infeed_ops), fit_with_infeed, tf.tuple(outfeed_ops)], \n",
    "      {image_batch: x_train[:BATCH_SIZE], \n",
    "       label_batch: y_train[:BATCH_SIZE]}\n",
    "  )\n",
    "  if i % 10 == 0:\n",
    "    print('loss = %f' % np.mean(loss))\n",
    "\n",
    "_, final_loss = session.run([fit_with_infeed, tf.tuple(outfeed_ops)])\n",
    "print('final loss = %f' % np.mean(final_loss))\n",
    "\n",
    "[predictions] = session.run(predict_on_tpu, {\n",
    "    images: x_test[:16], labels: y_train[:16]\n",
    "})\n",
    "\n",
    "plot_predictions(x_test[:16], predictions)"
   ]
  },
  {
   "cell_type": "markdown",
   "metadata": {
    "colab_type": "text",
    "id": "KQac9EiYZb0I"
   },
   "source": [
    "## Training Loops\n",
    "\n",
    "In our previous example, we used infeed and outfeed to decouple the CPU and TPU operations, but our TPU is still dependent on the CPU to \"pump\" the fit operation once per training loop. What if we could put a loop around the entire TPU computation such that it was entirely decoupled from the CPU? The tpu.repeat function helps us do just that. We supply a function to run in the loop and the number of times we want to run:\n",
    "\n"
   ]
  },
  {
   "cell_type": "code",
   "execution_count": 18,
   "metadata": {
    "colab": {
     "height": 872
    },
    "colab_type": "code",
    "id": "hK13OKSbg20x",
    "outputId": "c2d89a4d-6df9-4ba8-c41c-a95d984058d4"
   },
   "outputs": [
    {
     "name": "stdout",
     "output_type": "stream",
     "text": [
      "Tensor(\"infeed_dequeue_2:0\", shape=(128, 28, 28), dtype=float32) Tensor(\"tpu_5/add:0\", shape=(128, 10), dtype=float32) Tensor(\"infeed_dequeue_2:1\", shape=(128,), dtype=int32)\n",
      "Infeed 0\n",
      "Infeed 10\n",
      "Outfeed: 0 [[182.41867], [166.20851], [174.40918], [166.83932], [172.24617], [209.3718], [196.6448], [192.4896]]\n",
      "Outfeed: 10 [[211.57326], [250.54344], [109.76998], [157.62318], [151.5726], [111.26413], [170.51817], [112.66968]]\n",
      "Infeed 20\n",
      "Outfeed: 20 [[80.74988], [191.61298], [149.25012], [35.894707], [92.90561], [125.87827], [150.47806], [58.80836]]\n",
      "Infeed 30\n",
      "Outfeed: 30 [[51.099712], [99.81317], [51.137062], [9.362455], [33.58825], [12.327646], [52.579407], [30.45329]]\n",
      "Infeed 40\n",
      "Outfeed: 40 [[33.157497], [63.580967], [8.313176], [8.708943], [13.578816], [0.20352554], [17.062672], [2.2809372]]\n",
      "Infeed 50\n",
      "Outfeed: 50 [[3.0567093], [24.351074], [0.3786888], [3.2669644], [0.0], [1.6983624], [2.5881014], [0.0]]\n",
      "Infeed 60\n",
      "Outfeed: 60 [[0.0], [12.785406], [0.0], [0.48258018], [0.0], [0.0], [0.0], [0.0]]\n",
      "Infeed 70\n",
      "Outfeed: 70 [[5.587593e-09], [2.7874959], [0.0710191], [0.0], [0.0], [0.0], [0.0], [0.0]]\n",
      "Infeed 80\n",
      "Outfeed: 80 [[0.0], [0.0], [0.0], [0.0], [0.0], [0.0], [2.8463585e-06], [0.0]]\n",
      "Infeed 90\n",
      "Outfeed: 90 [[0.0], [0.0], [0.0], [0.0], [0.0], [0.0], [0.0], [0.0]]\n"
     ]
    },
    {
     "data": {
      "image/png": "[encoded data removed]",
      "text/plain": [
       "<Figure size 432x576 with 32 Axes>"
      ]
     },
     "metadata": {},
     "output_type": "display_data"
    }
   ],
   "source": [
    "NUM_STEPS = 100\n",
    "import threading\n",
    "\n",
    "def fit_loop():\n",
    "  return tf.contrib.tpu.repeat(NUM_STEPS, fit_batch_with_infeed)\n",
    "\n",
    "\n",
    "def _run_infeed(session, infeed_ops, x, y, images, labels):\n",
    "  for i in range(NUM_STEPS):\n",
    "    if i % 10 == 0:\n",
    "      print('Infeed %s' % i)\n",
    "    session.run(infeed_ops, {x: images, y: labels})\n",
    "\n",
    "losses = []\n",
    "def _run_outfeed(session, outfeed_ops):\n",
    "  # hack: store output in losses\n",
    "  for i in range(NUM_STEPS):\n",
    "    losses.append(session.run(outfeed_ops))\n",
    "    if i % 10 == 0:\n",
    "      print('Outfeed: %s %s' % (i, losses[-1]))\n",
    "      \n",
    "infeed_thread = threading.Thread(\n",
    "    target=lambda: _run_infeed(session, infeed_ops, \n",
    "                               image_batch, label_batch,\n",
    "                               x_train[:BATCH_SIZE], y_train[:BATCH_SIZE]))\n",
    "outfeed_thread = threading.Thread(\n",
    "    target=lambda: _run_outfeed(session, outfeed_ops))\n",
    "\n",
    "fit_with_infeed_loop = tf.contrib.tpu.batch_parallel(fit_loop, num_shards=8)\n",
    "\n",
    "session.run(tf.global_variables_initializer())\n",
    "\n",
    "infeed_thread.start()\n",
    "outfeed_thread.start()\n",
    "session.run(fit_with_infeed_loop)\n",
    "infeed_thread.join()\n",
    "outfeed_thread.join()\n",
    "\n",
    "[predictions] = session.run(predict_on_tpu, {\n",
    "    images: x_test[:16], labels: y_train[:16]\n",
    "})\n",
    "\n",
    "plot_predictions(x_test[:16], predictions)"
   ]
  },
  {
   "cell_type": "code",
   "execution_count": null,
   "metadata": {
    "colab": {},
    "colab_type": "code",
    "id": "pjG7NEmWZW2Q"
   },
   "outputs": [],
   "source": []
  },
  {
   "cell_type": "markdown",
   "metadata": {
    "colab_type": "text",
    "id": "VrwyluKFsNTp"
   },
   "source": [
    "Copyright 2018 Google Inc. Licensed under the Apache License, Version 2.0 (the \"License\"); you may not use this file except in compliance with the License. You may obtain a copy of the License at http://www.apache.org/licenses/LICENSE-2.0 Unless required by applicable law or agreed to in writing, software distributed under the License is distributed on an \"AS IS\" BASIS, WITHOUT WARRANTIES OR CONDITIONS OF ANY KIND, either express or implied. See the License for the specific language governing permissions and limitations under the License"
   ]
  }
 ],
 "metadata": {
  "accelerator": "TPU",
  "colab": {
   "collapsed_sections": [],
   "name": "TPU Fundamentals - External",
   "provenance": [],
   "version": "0.3.2"
  },
  "kernelspec": {
   "display_name": "Python 3",
   "language": "python",
   "name": "python3"
  },
  "language_info": {
   "codemirror_mode": {
    "name": "ipython",
    "version": 3
   },
   "file_extension": ".py",
   "mimetype": "text/x-python",
   "name": "python",
   "nbconvert_exporter": "python",
   "pygments_lexer": "ipython3",
   "version": "3.5.3"
  }
 },
 "nbformat": 4,
 "nbformat_minor": 2
}
