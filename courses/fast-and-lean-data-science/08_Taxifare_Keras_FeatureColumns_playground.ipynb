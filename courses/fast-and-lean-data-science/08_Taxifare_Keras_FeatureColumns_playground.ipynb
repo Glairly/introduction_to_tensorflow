{
  "nbformat": 4,
  "nbformat_minor": 0,
  "metadata": {
    "colab": {
      "name": "Taxi fare Keras Feature Columns (playground).ipynb",
      "version": "0.3.2",
      "provenance": [],
      "collapsed_sections": [],
      "include_colab_link": true
    },
    "kernelspec": {
      "name": "python3",
      "display_name": "Python 3"
    },
    "accelerator": "GPU"
  },
  "cells": [
    {
      "cell_type": "markdown",
      "metadata": {
        "id": "view-in-github",
        "colab_type": "text"
      },
      "source": [
        "<a href=\"https://colab.research.google.com/github/GoogleCloudPlatform/training-data-analyst/blob/master/courses/fast-and-lean-data-science/08_Taxifare_Keras_FeatureColumns_playground.ipynb\" target=\"_parent\"><img src=\"https://colab.research.google.com/assets/colab-badge.svg\" alt=\"Open In Colab\"/></a>"
      ]
    },
    {
      "metadata": {
        "id": "fIvCMy8TH170",
        "colab_type": "text"
      },
      "cell_type": "markdown",
      "source": [
        "Keras Feature Columns are not an officially released feature yet. Some caveats apply: please run this notebook on a GPU Backend. Keras Feature Columns are not comaptible with TPUs yet. Also, you will not be able to export this model to Tensorflow's \"saved model\" format for serving. The serving layer for feature columns will be added soon.\n"
      ]
    },
    {
      "metadata": {
        "id": "8g9DaHx7HFtl",
        "colab_type": "text"
      },
      "cell_type": "markdown",
      "source": [
        "## Imports"
      ]
    },
    {
      "metadata": {
        "id": "4RmX7O1HBoFE",
        "colab_type": "code",
        "outputId": "611158f2-57da-4d80-bbc8-cfba5b75671a",
        "colab": {
          "base_uri": "https://localhost:8080/",
          "height": 34
        }
      },
      "cell_type": "code",
      "source": [
        "import os, json, math\n",
        "import numpy as np\n",
        "import tensorflow as tf\n",
        "from tensorflow.python.feature_column import feature_column_v2 as fc  # This will change when Keras FeatureColumn is final.\n",
        "from matplotlib import pyplot as plt\n",
        "print(\"Tensorflow version \" + tf.__version__)\n",
        "tf.enable_eager_execution()"
      ],
      "execution_count": 1,
      "outputs": [
        {
          "output_type": "stream",
          "text": [
            "Tensorflow version 1.12.0\n"
          ],
          "name": "stdout"
        }
      ]
    },
    {
      "metadata": {
        "id": "k4565fhT0hRn",
        "colab_type": "code",
        "cellView": "form",
        "colab": {}
      },
      "cell_type": "code",
      "source": [
        "#@title display utilities [RUN ME]\n",
        "# utility to display training and validation curves\n",
        "def display_training_curves(training, validation, title, subplot):\n",
        "  if subplot%10==1: # set up the subplots on the first call\n",
        "    plt.subplots(figsize=(10,10), facecolor='#F0F0F0')\n",
        "    plt.tight_layout()\n",
        "  ax = plt.subplot(subplot)\n",
        "  ax.set_facecolor('#F8F8F8')\n",
        "  ax.plot(training)\n",
        "  ax.plot(validation)\n",
        "  ax.set_title('model '+ title)\n",
        "  ax.set_ylabel(title)\n",
        "  ax.set_xlabel('epoch')\n",
        "  ax.legend(['train', 'valid.'])"
      ],
      "execution_count": 0,
      "outputs": []
    },
    {
      "metadata": {
        "id": "iBn9AycUKk2U",
        "colab_type": "text"
      },
      "cell_type": "markdown",
      "source": [
        "## Colab-only auth"
      ]
    },
    {
      "metadata": {
        "id": "RTVUYJiZKoRc",
        "colab_type": "code",
        "colab": {}
      },
      "cell_type": "code",
      "source": [
        "# backend identification\n",
        "IS_COLAB = 'COLAB_GPU' in os.environ  # this is always set on Colab, the value is 0 or 1 depending on GPU presence\n",
        "HAS_COLAB_TPU = 'COLAB_TPU_ADDR' in os.environ\n",
        "\n",
        "# Auth on Colab\n",
        "if IS_COLAB:\n",
        "  from google.colab import auth\n",
        "  auth.authenticate_user()\n",
        "  \n",
        "# Also propagate the Auth to TPU if available so that it can access your GCS buckets\n",
        "if IS_COLAB and HAS_COLAB_TPU:\n",
        "  TF_MASTER = 'grpc://{}'.format(os.environ['COLAB_TPU_ADDR'])\n",
        "  with tf.Session(TF_MASTER) as sess:    \n",
        "    with open('/content/adc.json', 'r') as f:\n",
        "      auth_info = json.load(f) # Upload the credentials to TPU.\n",
        "    tf.contrib.cloud.configure_gcs(sess, credentials=auth_info)\n",
        "  print('Using TPU')\n",
        "\n",
        "# TPU usage flag\n",
        "USE_TPU = HAS_COLAB_TPU"
      ],
      "execution_count": 0,
      "outputs": []
    },
    {
      "metadata": {
        "id": "4OXx6ozUHzPd",
        "colab_type": "text"
      },
      "cell_type": "markdown",
      "source": [
        "## Config"
      ]
    },
    {
      "metadata": {
        "id": "asbCdV0iH1z8",
        "colab_type": "code",
        "colab": {}
      },
      "cell_type": "code",
      "source": [
        "DATA_BUCKET = \"gs://cloud-training-demos/taxifare/ch4/taxi_preproc/\"\n",
        "TRAIN_DATA_PATTERN = DATA_BUCKET + \"train*\"\n",
        "VALID_DATA_PATTERN = DATA_BUCKET + \"valid*\""
      ],
      "execution_count": 0,
      "outputs": []
    },
    {
      "metadata": {
        "id": "EuDURqOPJiQ2",
        "colab_type": "code",
        "colab": {}
      },
      "cell_type": "code",
      "source": [
        "CSV_COLUMNS = ['fare_amount', 'dayofweek', 'hourofday', 'pickuplon','pickuplat','dropofflon','dropofflat','passengers', 'key']\n",
        "DEFAULTS = [[0.0], ['null'], [12], [-74.0], [40.0], [-74.0], [40.7], [1.0], ['nokey']]\n",
        "\n",
        "def decode_csv(line):\n",
        "  column_values = tf.decode_csv(line, DEFAULTS)\n",
        "  column_names = CSV_COLUMNS\n",
        "  decoded_line = dict(zip(column_names, column_values)) # create a dictionary {'column_name': value, ...} for each line  \n",
        "  return decoded_line\n",
        "\n",
        "def load_dataset(pattern):\n",
        "  #filenames = tf.gfile.Glob(pattern)\n",
        "  filenames = tf.data.Dataset.list_files(pattern)\n",
        "  #dataset = tf.data.TextLineDataset(filenames)\n",
        "  dataset = filenames.interleave(tf.data.TextLineDataset, cycle_length=16)  # interleave so that reading happens from multiple files in parallel\n",
        "  dataset = dataset.map(decode_csv)\n",
        "  return dataset"
      ],
      "execution_count": 0,
      "outputs": []
    },
    {
      "metadata": {
        "id": "bSleDYsrNXzs",
        "colab_type": "code",
        "outputId": "1ca24e36-ac9b-46fd-e2d3-bfa2e432740e",
        "colab": {
          "base_uri": "https://localhost:8080/",
          "height": 241
        }
      },
      "cell_type": "code",
      "source": [
        "dataset = load_dataset(TRAIN_DATA_PATTERN)\n",
        "for n, data in enumerate(dataset):\n",
        "  numpy_data = {k: v.numpy() for k, v in data.items()} # .numpy() works in eager mode\n",
        "  print(numpy_data)\n",
        "  if n>10: break"
      ],
      "execution_count": 6,
      "outputs": [
        {
          "output_type": "stream",
          "text": [
            "{'fare_amount': 2.5, 'dayofweek': b'Thu', 'hourofday': 0, 'pickuplon': -73.97609, 'pickuplat': 40.764126, 'dropofflon': -73.97421, 'dropofflat': 40.763348, 'passengers': 1.0, 'key': b'2010-03-18 00:02:09.000000-73.976140.764140.7633-73.9742'}\n",
            "{'fare_amount': 2.5, 'dayofweek': b'Wed', 'hourofday': 0, 'pickuplon': -74.00178, 'pickuplat': 40.735416, 'dropofflon': -74.00195, 'dropofflat': 40.734978, 'passengers': 1.0, 'key': b'2014-03-05 00:07:00.000000-74.001840.735440.735-74.002'}\n",
            "{'fare_amount': 5.3, 'dayofweek': b'Wed', 'hourofday': 22, 'pickuplon': -74.00663, 'pickuplat': 40.71627, 'dropofflon': -73.99982, 'dropofflat': 40.731148, 'passengers': 1.0, 'key': b'2010-12-22 22:44:00.000000-74.006640.716340.7311-73.9998'}\n",
            "{'fare_amount': 4.1, 'dayofweek': b'Sun', 'hourofday': 11, 'pickuplon': -73.98547, 'pickuplat': 40.759377, 'dropofflon': -73.99159, 'dropofflat': 40.75146, 'passengers': 1.0, 'key': b'2009-07-05 11:04:32.000000-73.985540.759440.7515-73.9916'}\n",
            "{'fare_amount': 19.0, 'dayofweek': b'Sat', 'hourofday': 8, 'pickuplon': -74.006165, 'pickuplat': 40.7051, 'dropofflon': -73.980095, 'dropofflat': 40.75247, 'passengers': 2.0, 'key': b'2013-03-09 08:30:00.000000-74.006240.705140.7525-73.9801'}\n",
            "{'fare_amount': 10.9, 'dayofweek': b'Tue', 'hourofday': 16, 'pickuplon': -73.9871, 'pickuplat': 40.72528, 'dropofflon': -73.99647, 'dropofflat': 40.75305, 'passengers': 1.0, 'key': b'2012-05-29 16:16:03.000000-73.987140.725340.7531-73.9965'}\n",
            "{'fare_amount': 16.1, 'dayofweek': b'Sun', 'hourofday': 15, 'pickuplon': -74.0107, 'pickuplat': 40.710037, 'dropofflon': -73.96543, 'dropofflat': 40.75697, 'passengers': 2.0, 'key': b'2009-05-03 15:51:13.000000-74.010740.7140.757-73.9654'}\n",
            "{'fare_amount': 6.5, 'dayofweek': b'Wed', 'hourofday': 6, 'pickuplon': -74.010414, 'pickuplat': 40.72008, 'dropofflon': -74.008514, 'dropofflat': 40.707844, 'passengers': 1.0, 'key': b'2013-09-04 06:34:00.000000-74.010440.720140.7078-74.0085'}\n",
            "{'fare_amount': 15.5, 'dayofweek': b'Fri', 'hourofday': 19, 'pickuplon': -73.971924, 'pickuplat': 40.745842, 'dropofflon': -74.00344, 'dropofflat': 40.732437, 'passengers': 1.0, 'key': b'2015-02-06 19:48:43.000000-73.971940.745840.7324-74.0034'}\n",
            "{'fare_amount': 2.5, 'dayofweek': b'Fri', 'hourofday': 0, 'pickuplon': -73.99397, 'pickuplat': 40.75142, 'dropofflon': -73.99095, 'dropofflat': 40.755474, 'passengers': 1.0, 'key': b'2014-08-29 00:29:00.000000-73.99440.751440.7555-73.991'}\n",
            "{'fare_amount': 7.3, 'dayofweek': b'Thu', 'hourofday': 14, 'pickuplon': -73.825165, 'pickuplat': 40.745167, 'dropofflon': -73.82816, 'dropofflat': 40.75099, 'passengers': 5.0, 'key': b'2010-05-13 14:53:00.000000-73.825240.745240.751-73.8282'}\n",
            "{'fare_amount': 2.5, 'dayofweek': b'Sun', 'hourofday': 0, 'pickuplon': -73.9714, 'pickuplat': 40.745632, 'dropofflon': -73.97146, 'dropofflat': 40.74553, 'passengers': 2.0, 'key': b'2009-05-03 00:27:00.000000-73.971440.745640.7455-73.9715'}\n"
          ],
          "name": "stdout"
        }
      ]
    },
    {
      "metadata": {
        "id": "xYZzTbmAVTWn",
        "colab_type": "code",
        "colab": {}
      },
      "cell_type": "code",
      "source": [
        "def add_engineered(features):\n",
        "    # this is how you can do feature engineering in TensorFlow\n",
        "    distance = tf.sqrt((features['pickuplat'] - features['dropofflat'])**2 +\n",
        "                       (features['pickuplon'] - features['dropofflon'])**2)\n",
        "    \n",
        "    # euclidian distance is hard for a neural network to emulate\n",
        "    features['euclidean'] = distance\n",
        "    return features\n",
        "\n",
        "def features_and_labels(features):\n",
        "  features = add_engineered(features)\n",
        "  features.pop('key') # this column not needed\n",
        "  label = features.pop('fare_amount') # this is what we will train for\n",
        "  return features, label\n",
        "  \n",
        "def prepare_dataset(dataset, batch_size, truncate=None, shuffle=True):\n",
        "  dataset = dataset.map(features_and_labels)\n",
        "  if truncate is not None:\n",
        "    dataset = dataset.take(truncate)\n",
        "  dataset = dataset.cache()\n",
        "  if shuffle:\n",
        "    dataset = dataset.shuffle(10000)\n",
        "  dataset = dataset.repeat()\n",
        "  dataset = dataset.batch(batch_size)\n",
        "  dataset = dataset.prefetch(-1) # prefetch next batch while training  (-1: autotune prefetch buffer size)\n",
        "  return dataset\n",
        "\n",
        "one_item = load_dataset(TRAIN_DATA_PATTERN).map(features_and_labels).take(1).batch(1)"
      ],
      "execution_count": 0,
      "outputs": []
    },
    {
      "metadata": {
        "id": "Q9Zf5ra8WZk_",
        "colab_type": "text"
      },
      "cell_type": "markdown",
      "source": [
        "## Linear Keras model [WORK REQUIRED]\n",
        "1. What do the columns do ? Familiarize yourself with these column types.\n",
        "\n",
        "`numeric_col = fc.`[`numeric_column`](https://www.tensorflow.org/api_docs/python/tf/feature_column/numeric_column)`('name')`\n",
        "\n",
        "`bucketized_numeric_col = fc.`[`bucketized_column`](https://www.tensorflow.org/api_docs/python/tf/feature_column/bucketized_column)`(fc.`[`numeric_column`](https://www.tensorflow.org/api_docs/python/tf/feature_column/numeric_column)`('name'), [0, 2, 10])`\n",
        "\n",
        "\n",
        "`indic_of_categ_col = fc.`[`indicator_column`](https://www.tensorflow.org/api_docs/python/tf/feature_column/indicator_column)`(fc.`[`categorical_column_with_identity`](https://www.tensorflow.org/api_docs/python/tf/feature_column/categorical_column_with_identity)`('name', num_buckets = 24))`\n",
        "\n",
        "`indic_of_categ_vocab_col = fc.`[`indicator_column`](https://www.tensorflow.org/api_docs/python/tf/feature_column/indicator_column)`(fc.`[`categorical_column_with_identity`](https://www.tensorflow.org/api_docs/python/tf/feature_column/categorical_column_with_vocabulary_list)`('color', vocabulary_list = ['red', 'blue']))` \n",
        "\n",
        "\n",
        "`indic_of_crossed_col = fc.`[`indicator_column`](https://www.tensorflow.org/api_docs/python/tf/feature_column/indicator_column)`(fc.`[`crossed_column`](https://www.tensorflow.org/api_docs/python/tf/feature_column/crossed_column)`([categcol1, categcol2], 16*16))`\n",
        "\n",
        "\n",
        "`embedding_of_crossed_col = fc.`[`embedding_column`](https://www.tensorflow.org/api_docs/python/tf/feature_column/embedding_column)`(fc.`[`crossed_column`](https://www.tensorflow.org/api_docs/python/tf/feature_column/crossed_column)`([categcol1, categcol2], 16*16), 5)`\n",
        "\n",
        "| column | output vector shape | nb of parameters |\n",
        "|--------------|---------------------------------|------------------------------|\n",
        "| numeric_col | [1] | 0 |\n",
        "| bucketized_numeric_col | [bucket boundaries+1] | 0 |\n",
        "| indic_of_categ_col | [nb categories] | 0 |\n",
        "| indic_of_categ_vocab_col | [nb categories] | 0 |\n",
        "| indic_of_crossed_col | [nb crossed categories] | 0 |\n",
        "| embedding_of_crossed_col | [nb crossed categories] | crossed categories * embedding size |\n",
        "\n",
        "2. Let's start with all the data in as simply as possible: numerical columns for numerical values, categorical (one-hot encoded) columns for categorical data like the day of the week or the hour of the day. Try training...\n",
        " * RSME flat at 8-9 ... not good\n",
        "3. Try to replace the numerical latitude and longitudes by their bucketized versions\n",
        " * RSME trains to 6 ... progress!\n",
        "4. Try to add an engineered feature like 'euclidean' for the distance traveled by the taxi\n",
        " * RMSE trains down to 4-5 ... progress !\n",
        " The euclidian distance is really hard to emulate for a neural network. Look through the code to see how it was \"engineered\".\n",
        "5. Now add embedded crossed columns for:\n",
        "  * hourofday x dayofweek\n",
        "   * pickup neighborhood (bucketized pickup lon x bucketized pickup lat)\n",
        "   * dropoff neighborhood (bucketized dropoff lon x bucketized dropoff lat)\n",
        "   * is this better ?\n",
        "   \n",
        "The big wins were bucketizing the coordinates and adding the euclidian distance. The cross column add only a little, and only if you train for longer. Try training on 10x the training and validation data. With crossed columns you should be able to reach RMSE=3.9"
      ]
    },
    {
      "metadata": {
        "id": "F0qPAxfnWYaj",
        "colab_type": "code",
        "outputId": "c4d9e58d-ef0c-4121-af89-3d5ebabf0efe",
        "colab": {
          "base_uri": "https://localhost:8080/",
          "height": 340
        }
      },
      "cell_type": "code",
      "source": [
        "NB_BUCKETS = 16\n",
        "latbuckets = np.linspace(38.0, 42.0, NB_BUCKETS).tolist()\n",
        "lonbuckets = np.linspace(-76.0, -72.0, NB_BUCKETS).tolist()\n",
        "\n",
        "\n",
        "# the columns you can play with\n",
        "\n",
        "# Categorical columns are used as:\n",
        "# fc.indicator_column(dayofweek)\n",
        "dayofweek = fc.categorical_column_with_vocabulary_list('dayofweek', vocabulary_list = ['Sun', 'Mon', 'Tues', 'Wed', 'Thu', 'Fri', 'Sat'])\n",
        "hourofday = fc.categorical_column_with_identity('hourofday', num_buckets = 24)\n",
        "\n",
        "# Bucketized columns can be used as such:\n",
        "bucketized_pick_lat = fc.bucketized_column(fc.numeric_column('pickuplon'), lonbuckets)\n",
        "bucketized_pick_lon = fc.bucketized_column(fc.numeric_column('pickuplat'), latbuckets)\n",
        "bucketized_drop_lat = fc.bucketized_column(fc.numeric_column('dropofflon'), lonbuckets)\n",
        "bucketized_drop_lon = fc.bucketized_column(fc.numeric_column('dropofflat'), latbuckets)\n",
        "\n",
        "# Cross columns are used as\n",
        "# fc.embedding_column(day_hr, 5)\n",
        "day_hr =  fc.crossed_column([dayofweek, hourofday], 24 * 7)\n",
        "pickup_cross  = fc.crossed_column([bucketized_pick_lat, bucketized_pick_lon], NB_BUCKETS * NB_BUCKETS)\n",
        "drofoff_cross = fc.crossed_column([bucketized_drop_lat, bucketized_drop_lon], NB_BUCKETS * NB_BUCKETS)\n",
        "#pickdorp_pair  = fc.crossed_column([pickup_cross, ddropoff_cross], NB_BUCKETS ** 4 )\n",
        "  \n",
        "columns = [\n",
        "    \n",
        "    ###\n",
        "    #\n",
        "    # YOUR FEATURE COLUMNS HERE\n",
        "    #\n",
        "    fc.numeric_column('passengers'),\n",
        "    ##\n",
        "]\n",
        "\n",
        "l = tf.keras.layers\n",
        "model = tf.keras.Sequential(\n",
        "    [\n",
        "        fc.FeatureLayer(columns),\n",
        "        l.Dense(100, activation='relu'),\n",
        "        l.Dense(64, activation='relu'),\n",
        "        l.Dense(32, activation='relu'),\n",
        "        l.Dense(16, activation='relu'),\n",
        "        l.Dense(1, activation=None), # regression\n",
        "    ])\n",
        "\n",
        "def rmse(y_true, y_pred): # Root Mean Squared Error\n",
        "  return tf.sqrt(tf.reduce_mean(tf.square(y_pred - y_true)))\n",
        "\n",
        "def mae(y_true, y_pred): # Mean Squared Error\n",
        "  return tf.reduce_mean(tf.abs(y_pred - y_true))\n",
        "  \n",
        "model.compile(optimizer=tf.train.AdamOptimizer(), # little bug: in eager mode, 'adam' is not yet accepted, must spell out tf.train.AdamOptimizer()\n",
        "              loss='mean_squared_error',\n",
        "              metrics=[rmse])\n",
        "\n",
        "# print model layers\n",
        "model.predict(one_item, steps=1) # little bug: with FeatureLayer, must call the model once on dummy data before .summary can work\n",
        "model.summary()"
      ],
      "execution_count": 11,
      "outputs": [
        {
          "output_type": "stream",
          "text": [
            "_________________________________________________________________\n",
            "Layer (type)                 Output Shape              Param #   \n",
            "=================================================================\n",
            "feature_layer_1 (FeatureLaye multiple                  0         \n",
            "_________________________________________________________________\n",
            "dense_5 (Dense)              multiple                  200       \n",
            "_________________________________________________________________\n",
            "dense_6 (Dense)              multiple                  6464      \n",
            "_________________________________________________________________\n",
            "dense_7 (Dense)              multiple                  2080      \n",
            "_________________________________________________________________\n",
            "dense_8 (Dense)              multiple                  528       \n",
            "_________________________________________________________________\n",
            "dense_9 (Dense)              multiple                  17        \n",
            "=================================================================\n",
            "Total params: 9,289\n",
            "Trainable params: 9,289\n",
            "Non-trainable params: 0\n",
            "_________________________________________________________________\n"
          ],
          "name": "stdout"
        }
      ]
    },
    {
      "metadata": {
        "id": "qwlP-V2yulrl",
        "colab_type": "code",
        "colab": {
          "base_uri": "https://localhost:8080/",
          "height": 289
        },
        "outputId": "ff07796b-c8e7-4de6-a188-599e87c1c83e"
      },
      "cell_type": "code",
      "source": [
        "EPOCHS = 8\n",
        "BATCH_SIZE = 512\n",
        "TRAIN_SIZE = 64*1024  # max is 2,141,023\n",
        "VALID_SIZE = 4*1024   # max is 2,124,500\n",
        "\n",
        "# Playground settings: TRAIN_SIZE = 64*1024, VALID_SIZE = 4*1024\n",
        "# Solution settings: TRAIN_SIZE = 640*1024, VALID_SIZE = 64*1024\n",
        "\n",
        "# This should reach RMSE = 3.9 (multiple runs may be necessary)\n",
        "\n",
        "train_dataset = prepare_dataset(load_dataset(TRAIN_DATA_PATTERN), batch_size=BATCH_SIZE, truncate=TRAIN_SIZE)\n",
        "valid_dataset = prepare_dataset(load_dataset(VALID_DATA_PATTERN), batch_size=BATCH_SIZE, truncate=VALID_SIZE, shuffle=False)\n",
        "\n",
        "history = model.fit(train_dataset, steps_per_epoch=TRAIN_SIZE//BATCH_SIZE, epochs=EPOCHS, shuffle=True,\n",
        "                    validation_data=valid_dataset, validation_steps=VALID_SIZE//BATCH_SIZE)"
      ],
      "execution_count": 12,
      "outputs": [
        {
          "output_type": "stream",
          "text": [
            "Epoch 1/8\n",
            "128/128 [==============================] - 20s 157ms/step - loss: 187.0750 - rmse: 13.4228 - val_loss: 59.7003 - val_rmse: 7.3774\n",
            "Epoch 2/8\n",
            "128/128 [==============================] - 2s 19ms/step - loss: 136.8302 - rmse: 11.4675 - val_loss: 52.0826 - val_rmse: 6.8467\n",
            "Epoch 3/8\n",
            "128/128 [==============================] - 2s 19ms/step - loss: 123.6562 - rmse: 10.8938 - val_loss: 47.9557 - val_rmse: 6.5524\n",
            "Epoch 4/8\n",
            "128/128 [==============================] - 2s 19ms/step - loss: 119.1638 - rmse: 10.6985 - val_loss: 47.9505 - val_rmse: 6.5567\n",
            "Epoch 5/8\n",
            "128/128 [==============================] - 2s 19ms/step - loss: 119.1454 - rmse: 10.7169 - val_loss: 47.3986 - val_rmse: 6.4993\n",
            "Epoch 6/8\n",
            "128/128 [==============================] - 2s 19ms/step - loss: 119.1191 - rmse: 10.6777 - val_loss: 47.8205 - val_rmse: 6.5445\n",
            "Epoch 7/8\n",
            "128/128 [==============================] - 2s 19ms/step - loss: 119.3316 - rmse: 10.7100 - val_loss: 47.7658 - val_rmse: 6.5388\n",
            "Epoch 8/8\n",
            "128/128 [==============================] - 2s 19ms/step - loss: 119.0250 - rmse: 10.6859 - val_loss: 47.6381 - val_rmse: 6.5254\n"
          ],
          "name": "stdout"
        }
      ]
    },
    {
      "metadata": {
        "id": "t5Ty-HFjWbPM",
        "colab_type": "code",
        "colab": {
          "base_uri": "https://localhost:8080/",
          "height": 767
        },
        "outputId": "1b4b2fd1-90bc-4bef-8610-917935cbc785"
      },
      "cell_type": "code",
      "source": [
        "print(history.history.keys())\n",
        "display_training_curves(history.history['rmse'], history.history['val_rmse'], 'accuracy', 211)\n",
        "display_training_curves(history.history['loss'], history.history['val_loss'], 'loss', 212)"
      ],
      "execution_count": 13,
      "outputs": [
        {
          "output_type": "stream",
          "text": [
            "dict_keys(['val_loss', 'val_rmse', 'loss', 'rmse'])\n"
          ],
          "name": "stdout"
        },
        {
          "output_type": "display_data",
          "data": {
            "image/png": "[encoded data removed]",
            "text/plain": [
              "<Figure size 720x720 with 2 Axes>"
            ]
          },
          "metadata": {
            "tags": []
          }
        }
      ]
    },
    {
      "metadata": {
        "id": "L9SJkpi8j-mR",
        "colab_type": "code",
        "colab": {}
      },
      "cell_type": "code",
      "source": [
        ""
      ],
      "execution_count": 0,
      "outputs": []
    }
  ]
}