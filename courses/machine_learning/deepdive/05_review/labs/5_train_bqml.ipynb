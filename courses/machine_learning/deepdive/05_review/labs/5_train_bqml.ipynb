{
 "cells": [
  {
   "cell_type": "markdown",
   "metadata": {
    "colab_type": "text",
    "id": "aklJxkHBD5aR"
   },
   "source": [
    "# Predicting Babyweight Using BigQuery ML\n",
    "\n",
    "**Learning Objectives**\n",
    "- Explore the machine learning capabilities of BigQuery\n",
    "- Learn how to train a linear regression model in BigQuery\n",
    "- Examine the TRAINING_INFO produced by training a model\n",
    "- Make predictions with a trained model in BigQuery using ML.PREDICT\n",
    "\n",
    "## Introduction\n",
    "\n",
    "BQML is a great option when a linear model will suffice, or when you want a quick benchmark to beat. But, for more complex models such as neural networks you will need to pull the data out of BigQuery and into an ML Framework like TensorFlow. That being said, what BQML gives up in complexity, it gains in ease of use. \n",
    "\n",
    "Please see [this notebook](1_explore_datasets.ipynb) for more context on this problem and how the features were chosen.\n",
    "\n",
    "We'll start as usual by setting our environment variables."
   ]
  },
  {
   "cell_type": "code",
   "execution_count": null,
   "metadata": {
    "colab": {
     "autoexec": {
      "startup": false,
      "wait_interval": 0
     }
    },
    "colab_type": "code",
    "id": "BhUiclqCD5aT"
   },
   "outputs": [],
   "source": [
    "PROJECT = 'cloud-training-demos'  # Replace with your PROJECT\n",
    "BUCKET = 'cloud-training-bucket'  # Replace with your BUCKET\n",
    "REGION = 'us-central1'            # Choose an available region for Cloud MLE"
   ]
  },
  {
   "cell_type": "code",
   "execution_count": null,
   "metadata": {
    "colab": {
     "autoexec": {
      "startup": false,
      "wait_interval": 0
     }
    },
    "colab_type": "code",
    "id": "F10_KsX7D5aX"
   },
   "outputs": [],
   "source": [
    "import os\n",
    "os.environ['BUCKET'] = BUCKET\n",
    "os.environ['PROJECT'] = PROJECT\n",
    "os.environ['REGION'] = REGION"
   ]
  },
  {
   "cell_type": "code",
   "execution_count": null,
   "metadata": {
    "colab": {
     "autoexec": {
      "startup": false,
      "wait_interval": 0
     }
    },
    "colab_type": "code",
    "id": "YrqwSv6vD5aZ",
    "outputId": "402ed11b-ab4a-4480-a1aa-f72741cd2cc1"
   },
   "outputs": [],
   "source": [
    "%%bash\n",
    "gcloud config set project $PROJECT\n",
    "gcloud config set compute/region $REGION"
   ]
  },
  {
   "cell_type": "code",
   "execution_count": null,
   "metadata": {},
   "outputs": [],
   "source": [
    "%load_ext google.cloud.bigquery"
   ]
  },
  {
   "cell_type": "markdown",
   "metadata": {
    "colab_type": "text",
    "id": "j782YaAzD5ae"
   },
   "source": [
    "## Exploring the data\n",
    "\n",
    "Here, we will be taking natality data and training on features to predict the birth weight.\n",
    "\n",
    "The CDC's Natality data has details on US births from 1969 to 2008 and is available in BigQuery as a public data set. More details: https://bigquery.cloud.google.com/table/publicdata:samples.natality?tab=details\n",
    "\n",
    "Lets start by looking at the data since 2000 with useful values; i.e. those greater than zero!"
   ]
  },
  {
   "cell_type": "code",
   "execution_count": null,
   "metadata": {
    "colab": {
     "autoexec": {
      "startup": false,
      "wait_interval": 0
     }
    },
    "colab_type": "code",
    "id": "odWaIcLdD5af",
    "outputId": "2654ad9b-a735-4cd3-c3d9-80ebed8ed6bf"
   },
   "outputs": [],
   "source": [
    "%%bigquery --project $PROJECT\n",
    "SELECT\n",
    "    *\n",
    "FROM\n",
    "  publicdata.samples.natality\n",
    "WHERE\n",
    "  year > 2000\n",
    "  AND gestation_weeks > 0\n",
    "  AND mother_age > 0\n",
    "  AND plurality > 0\n",
    "  AND weight_pounds > 0\n",
    "LIMIT 10"
   ]
  },
  {
   "cell_type": "markdown",
   "metadata": {
    "colab_type": "text",
    "id": "ep02J20pD5ai"
   },
   "source": [
    "## Define features\n",
    "\n",
    "Looking over the data set, there are a few columns of interest that could be leveraged into features for a reasonable prediction of approximate birth weight.\n",
    "\n",
    "Further, some feature engineering may be accomplished with the BigQuery `CAST` function -- in BQML, all strings are considered categorical features and all numeric types are considered continuous ones.\n",
    "\n",
    "The hashmonth is added so that we can repeatably split the data without leakage -- we want all babies that share a birthday to be either in training set or in test set and not spread between them (otherwise, there would be information leakage when it comes to triplets, etc.)"
   ]
  },
  {
   "cell_type": "code",
   "execution_count": null,
   "metadata": {
    "colab": {
     "autoexec": {
      "startup": false,
      "wait_interval": 0
     }
    },
    "colab_type": "code",
    "id": "DPUCYDjlD5aj",
    "outputId": "3cbc1dbe-22d0-406c-fe9c-0a019040ae3d"
   },
   "outputs": [],
   "source": [
    "%%bigquery --project $PROJECT\n",
    "SELECT\n",
    "    weight_pounds, -- this is the label; because it is continuous, we need to use regression\n",
    "    CAST(is_male AS STRING) AS is_male,\n",
    "    mother_age,\n",
    "    CAST(plurality AS STRING) AS plurality,\n",
    "    gestation_weeks,\n",
    "    FARM_FINGERPRINT(CONCAT(CAST(YEAR AS STRING), CAST(month AS STRING))) AS hashmonth\n",
    "FROM\n",
    "  publicdata.samples.natality\n",
    "WHERE\n",
    "  year > 2000\n",
    "  AND gestation_weeks > 0\n",
    "  AND mother_age > 0\n",
    "  AND plurality > 0\n",
    "  AND weight_pounds > 0\n",
    "LIMIT 10"
   ]
  },
  {
   "cell_type": "markdown",
   "metadata": {
    "colab_type": "text",
    "id": "H-d7C8KcD5am"
   },
   "source": [
    "## Train a model in BigQuery\n",
    "\n",
    "With the relevant columns chosen to accomplish predictions, it is then possible to create (train) the model in BigQuery. First, a dataset will be needed store the model. (if this throws an error in Datalab, simply create the dataset from the BigQuery console)."
   ]
  },
  {
   "cell_type": "code",
   "execution_count": null,
   "metadata": {
    "colab": {
     "autoexec": {
      "startup": false,
      "wait_interval": 0
     }
    },
    "colab_type": "code",
    "id": "bWMZJQdKD5an"
   },
   "outputs": [],
   "source": [
    "%%bash\n",
    "bq --location=US mk -d demo"
   ]
  },
  {
   "cell_type": "markdown",
   "metadata": {
    "colab_type": "text",
    "id": "T9JZIQ9nD5ap"
   },
   "source": [
    "With the demo dataset ready, it is possible to create a linear regression model to train the model.\n",
    "\n",
    "This will take approximately **4 minutes** to run and will show **Done** when complete."
   ]
  },
  {
   "cell_type": "markdown",
   "metadata": {},
   "source": [
    "#### **Exercise 1**\n",
    "\n",
    "Complete the TODOs in the cell below to train a linear regression model in BigQuery using `weight_pounds` as the label. Name your model `babyweight_model_asis`; it will reside within the `demo` dataset we created above. \n",
    "\n",
    "Have a look at [the documentation for CREATE MODEL](https://cloud.google.com/bigquery/docs/reference/standard-sql/bigqueryml-syntax-create) in BQML to see examples of the correct syntax. "
   ]
  },
  {
   "cell_type": "code",
   "execution_count": null,
   "metadata": {
    "colab": {
     "autoexec": {
      "startup": false,
      "wait_interval": 0
     }
    },
    "colab_type": "code",
    "id": "V-UJOX0tD5aq",
    "outputId": "63aa219c-a14f-4db5-a271-2e614759fe1a"
   },
   "outputs": [],
   "source": [
    "%%bigquery --project $PROJECT\n",
    "\n",
    "# TODO: Your code goes here\n",
    "  \n",
    "WITH natality_data AS (\n",
    "  SELECT\n",
    "    weight_pounds,-- this is the label; because it is continuous, we need to use regression\n",
    "    CAST(is_male AS STRING) AS is_male,\n",
    "    mother_age,\n",
    "    CAST(plurality AS STRING) AS plurality,\n",
    "    gestation_weeks,\n",
    "    FARM_FINGERPRINT(CONCAT(CAST(YEAR AS STRING), CAST(month AS STRING))) AS hashmonth\n",
    "  FROM\n",
    "    publicdata.samples.natality\n",
    "  WHERE\n",
    "    year > 2000\n",
    "    AND gestation_weeks > 0\n",
    "    AND mother_age > 0\n",
    "    AND plurality > 0\n",
    "    AND weight_pounds > 0\n",
    ")\n",
    "\n",
    "SELECT\n",
    "    weight_pounds,\n",
    "    is_male,\n",
    "    mother_age,\n",
    "    plurality,\n",
    "    gestation_weeks\n",
    "FROM\n",
    "    natality_data\n",
    "WHERE\n",
    "  ABS(MOD(hashmonth, 4)) < 3  -- select 75% of the data as training"
   ]
  },
  {
   "cell_type": "markdown",
   "metadata": {
    "colab_type": "text",
    "id": "mJYtGxWyD5at"
   },
   "source": [
    "## Explore the training statistics\n",
    "\n",
    "During the model training (and after the training), it is possible to see the model's training evaluation statistics. For each training run, a table named `<model_name>_eval` is created. This table has basic performance statistics for each iteration.\n",
    "\n",
    "While the new model is training, review the training statistics in the BigQuery UI to see the below model training: https://bigquery.cloud.google.com/. Since these statistics are updated after each iteration of model training, you will see different values for each refresh while the model is training.\n",
    "\n",
    "The training details may also be viewed after the training completes from this notebook."
   ]
  },
  {
   "cell_type": "markdown",
   "metadata": {},
   "source": [
    "#### **Exercise 2**\n",
    "\n",
    "The cell below is missing the SQL query to examine the training statistics of our trained model. Complete the TODO below to view the results of our training job above. \n",
    "\n",
    "Look back at the usage of the [ML.TRAINING_INFO function and its correct syntax](https://cloud.google.com/bigquery/docs/reference/standard-sql/bigqueryml-syntax-train)."
   ]
  },
  {
   "cell_type": "code",
   "execution_count": null,
   "metadata": {},
   "outputs": [],
   "source": [
    "%%bigquery --project $PROJECT\n",
    "# TODO: Your code goes here"
   ]
  },
  {
   "cell_type": "markdown",
   "metadata": {
    "colab_type": "text",
    "id": "CATWu60vD5ay"
   },
   "source": [
    "Some of these columns are obvious; although, what do the non-specific ML columns mean (specific to BQML)?\n",
    "\n",
    "- **training_run** - Will be zero for a newly created model. If the model is re-trained using warm_start, this will increment for each re-training.\n",
    "\n",
    "- **iteration** - Number of the associated `training_run`, starting with zero for the first iteration.\n",
    "\n",
    "- **duration_ms** - Indicates how long the iteration took (in ms).\n",
    "\n",
    "Note, you can also see these stats by refreshing [the BigQuery UI window](https://bigquery.cloud.google.com/), finding the `<model_name>` table, selecting on it, and then the Training Stats sub-header.\n",
    "\n",
    "Let's plot the training and evaluation loss to see if the model has an overfit."
   ]
  },
  {
   "cell_type": "code",
   "execution_count": null,
   "metadata": {
    "colab": {
     "autoexec": {
      "startup": false,
      "wait_interval": 0
     }
    },
    "colab_type": "code",
    "id": "govNS3cyD5az",
    "outputId": "0187c121-e47e-4c85-e59e-00ada59c291f"
   },
   "outputs": [],
   "source": [
    "from google.cloud import bigquery\n",
    "bq = bigquery.Client(project=PROJECT)\n",
    "\n",
    "df = bq.query(\"SELECT * FROM ML.TRAINING_INFO(MODEL demo.babyweight_model_asis)\").to_dataframe()\n",
    "\n",
    "# plot both lines in same graph\n",
    "import matplotlib.pyplot as plt\n",
    "plt.plot( 'iteration', 'loss', data=df, marker='o', color='orange', linewidth=2)\n",
    "plt.plot( 'iteration', 'eval_loss', data=df, marker='', color='green', linewidth=2, linestyle='dashed')\n",
    "plt.xlabel('iteration')\n",
    "plt.ylabel('loss')\n",
    "plt.legend();"
   ]
  },
  {
   "cell_type": "markdown",
   "metadata": {
    "colab_type": "text",
    "id": "Add--LfeD5a2"
   },
   "source": [
    "As you can see, the training loss and evaluation loss are essentially identical. We do not seem to be overfitting."
   ]
  },
  {
   "cell_type": "markdown",
   "metadata": {
    "colab_type": "text",
    "id": "9QPwMA_ZD5a3"
   },
   "source": [
    "## Make a prediction with BQML using the trained model"
   ]
  },
  {
   "cell_type": "markdown",
   "metadata": {
    "colab_type": "text",
    "id": "9QBZxMb6D5a5"
   },
   "source": [
    "With a trained model, it is now possible to make a prediction on the values. The only difference from the second query above is the reference to the model. The data has been limited (`LIMIT 100`) to reduce amount of data returned.\n",
    "\n",
    "When the `ml.predict` function is leveraged, output prediction column name for the model is `predicted_<label_column_name>`."
   ]
  },
  {
   "cell_type": "markdown",
   "metadata": {},
   "source": [
    "#### **Exercise 3**\n",
    "\n",
    "Complete the TODO in the cell below to make predictions in BigQuery with our newly trained model `demo.babyweight_model_asis` on the `public.samples.natality` table. You'll need to preprocess the data for training by selecting only those examples which have\n",
    "- `year` greater than 2000\n",
    "- `gestation_weeks` greater than 0\n",
    "- `mother_age`  greater than 0\n",
    "- `plurality` greater than 0\n",
    "- `weight_pounds` greater than 0\n",
    "\n",
    "Look at the expected [syntax for the ML.PREDICT Function](https://cloud.google.com/bigquery/docs/reference/standard-sql/bigqueryml-syntax-predict).\n",
    "\n",
    "**Hint**: You will need to cast the features `is_male` and `plurality` as `STRING`s \n"
   ]
  },
  {
   "cell_type": "code",
   "execution_count": null,
   "metadata": {
    "colab": {
     "autoexec": {
      "startup": false,
      "wait_interval": 0
     }
    },
    "colab_type": "code",
    "id": "x-hedqSeD5a6",
    "outputId": "e9bbeb43-900c-420a-8520-2feeccf79239"
   },
   "outputs": [],
   "source": [
    "%%bigquery --project $PROJECT\n",
    "SELECT\n",
    "  *\n",
    "FROM\n",
    "    # TODO: Your code goes here\n",
    "LIMIT 100"
   ]
  },
  {
   "cell_type": "markdown",
   "metadata": {
    "colab_type": "text",
    "id": "0DZorSI-D5a9"
   },
   "source": [
    "## More advanced...\n",
    "\n",
    "In the original example, we were taking into account the idea that if no ultrasound has been performed, some of the features (e.g. is_male) will not be known. Therefore, we augmented the dataset with such masked features and trained a single model to deal with both these scenarios.\n",
    "\n",
    "In addition, during data exploration, we learned that the data size set for mothers older than 45 was quite sparse, so we will discretize the mother age."
   ]
  },
  {
   "cell_type": "code",
   "execution_count": null,
   "metadata": {
    "colab": {
     "autoexec": {
      "startup": false,
      "wait_interval": 0
     }
    },
    "colab_type": "code",
    "id": "SnNOrcMfD5a-",
    "outputId": "316cc091-ffd8-4dce-ae9c-b56fef884593"
   },
   "outputs": [],
   "source": [
    "%%bigquery --project $PROJECT\n",
    "SELECT\n",
    "    weight_pounds,\n",
    "    CAST(is_male AS STRING) AS is_male,\n",
    "    IF(mother_age < 18, 'LOW',\n",
    "         IF(mother_age > 45, 'HIGH',\n",
    "            CAST(mother_age AS STRING))) AS mother_age,\n",
    "    CAST(plurality AS STRING) AS plurality,\n",
    "    CAST(gestation_weeks AS STRING) AS gestation_weeks,\n",
    "    FARM_FINGERPRINT(CONCAT(CAST(YEAR AS STRING), CAST(month AS STRING))) AS hashmonth\n",
    "  FROM\n",
    "    publicdata.samples.natality\n",
    "  WHERE\n",
    "    year > 2000\n",
    "    AND gestation_weeks > 0\n",
    "    AND mother_age > 0\n",
    "    AND plurality > 0\n",
    "    AND weight_pounds > 0\n",
    "LIMIT 25"
   ]
  },
  {
   "cell_type": "markdown",
   "metadata": {
    "colab_type": "text",
    "id": "ZwetSzIeD5bC"
   },
   "source": [
    "On the same dataset, will also suppose that it is unknown whether the child is male or female (on the same dataset) to simulate that an ultrasound was not been performed."
   ]
  },
  {
   "cell_type": "code",
   "execution_count": null,
   "metadata": {
    "colab": {
     "autoexec": {
      "startup": false,
      "wait_interval": 0
     }
    },
    "colab_type": "code",
    "id": "Y_MSEYqBD5bC",
    "outputId": "22f63e28-93c6-4086-f3f8-68e5ffdaa364"
   },
   "outputs": [],
   "source": [
    "%%bigquery --project $PROJECT\n",
    "SELECT\n",
    "    weight_pounds,\n",
    "    'Unknown' AS is_male,\n",
    "    IF(mother_age < 18, 'LOW',\n",
    "         IF(mother_age > 45, 'HIGH',\n",
    "            CAST(mother_age AS STRING))) AS mother_age,\n",
    "    IF(plurality > 1, 'Multiple', 'Single') AS plurality,\n",
    "    CAST(gestation_weeks AS STRING) AS gestation_weeks,\n",
    "    FARM_FINGERPRINT(CONCAT(CAST(YEAR AS STRING), CAST(month AS STRING))) AS hashmonth\n",
    "  FROM\n",
    "    publicdata.samples.natality\n",
    "  WHERE\n",
    "    year > 2000\n",
    "    AND gestation_weeks > 0\n",
    "    AND mother_age > 0\n",
    "    AND plurality > 0\n",
    "    AND weight_pounds > 0\n",
    "LIMIT 25"
   ]
  },
  {
   "cell_type": "markdown",
   "metadata": {
    "colab_type": "text",
    "id": "MmY2chPyD5bI"
   },
   "source": [
    "Bringing these two separate data sets together, there is now a dataset for male or female children determined with ultrasound or unknown if without. "
   ]
  },
  {
   "cell_type": "code",
   "execution_count": null,
   "metadata": {
    "colab": {
     "autoexec": {
      "startup": false,
      "wait_interval": 0
     }
    },
    "colab_type": "code",
    "id": "2XblYiMVD5bJ",
    "outputId": "38526c88-c10d-499d-f187-2296647cc1c7"
   },
   "outputs": [],
   "source": [
    "%%bigquery --project $PROJECT\n",
    "WITH with_ultrasound AS (\n",
    "  SELECT\n",
    "    weight_pounds,\n",
    "    CAST(is_male AS STRING) AS is_male,\n",
    "    IF(mother_age < 18, 'LOW',\n",
    "         IF(mother_age > 45, 'HIGH',\n",
    "            CAST(mother_age AS STRING))) AS mother_age,\n",
    "    CAST(plurality AS STRING) AS plurality,\n",
    "    CAST(gestation_weeks AS STRING) AS gestation_weeks,\n",
    "    FARM_FINGERPRINT(CONCAT(CAST(YEAR AS STRING), CAST(month AS STRING))) AS hashmonth\n",
    "  FROM\n",
    "    publicdata.samples.natality\n",
    "  WHERE\n",
    "    year > 2000\n",
    "    AND gestation_weeks > 0\n",
    "    AND mother_age > 0\n",
    "    AND plurality > 0\n",
    "    AND weight_pounds > 0\n",
    "),\n",
    "\n",
    "without_ultrasound AS (\n",
    "  SELECT\n",
    "    weight_pounds,\n",
    "    'Unknown' AS is_male,\n",
    "    IF(mother_age < 18, 'LOW',\n",
    "         IF(mother_age > 45, 'HIGH',\n",
    "            CAST(mother_age AS STRING))) AS mother_age,\n",
    "    IF(plurality > 1, 'Multiple', 'Single') AS plurality,\n",
    "    CAST(gestation_weeks AS STRING) AS gestation_weeks,\n",
    "    FARM_FINGERPRINT(CONCAT(CAST(YEAR AS STRING), CAST(month AS STRING))) AS hashmonth\n",
    "  FROM\n",
    "    publicdata.samples.natality\n",
    "  WHERE\n",
    "    year > 2000\n",
    "    AND gestation_weeks > 0\n",
    "    AND mother_age > 0\n",
    "    AND plurality > 0\n",
    "    AND weight_pounds > 0\n",
    "),\n",
    "\n",
    "preprocessed AS (\n",
    "  SELECT * from with_ultrasound\n",
    "  UNION ALL\n",
    "  SELECT * from without_ultrasound\n",
    ")\n",
    "\n",
    "SELECT\n",
    "    weight_pounds,\n",
    "    is_male,\n",
    "    mother_age,\n",
    "    plurality,\n",
    "    gestation_weeks\n",
    "FROM\n",
    "    preprocessed\n",
    "WHERE\n",
    "  ABS(MOD(hashmonth, 4)) < 3\n",
    "LIMIT 25"
   ]
  },
  {
   "cell_type": "markdown",
   "metadata": {
    "colab_type": "text",
    "id": "hNnZxDw9D5bN"
   },
   "source": [
    "## Create a new model\n",
    "\n",
    "With a data set which has been feature engineered, it is ready to create model with the `CREATE or REPLACE MODEL` statement\n",
    "\n",
    "This will take **5-10 minutes** and will show **Done** when complete."
   ]
  },
  {
   "cell_type": "markdown",
   "metadata": {},
   "source": [
    "#### **Exercise 4**\n",
    "\n",
    "As in Exercise 1 above, below you are asked to complete the TODO in the cell below to train a linear regression model in BigQuery using `weight_pounds` as the label. This time, since we're using the supplemented dataset containing `without_ultrasound` data, name your model `babyweight_model_fc`. This model will reside within the `demo` dataset. \n",
    "\n",
    "Have a look at [the documentation for CREATE MODEL](https://cloud.google.com/bigquery/docs/reference/standard-sql/bigqueryml-syntax-create) in BQML to see examples of the correct syntax. "
   ]
  },
  {
   "cell_type": "code",
   "execution_count": null,
   "metadata": {
    "colab": {
     "autoexec": {
      "startup": false,
      "wait_interval": 0
     }
    },
    "colab_type": "code",
    "id": "aKPqXqicD5bP"
   },
   "outputs": [],
   "source": [
    "%%bigquery --project $PROJECT\n",
    "\n",
    "# TODO: Your code goes here\n",
    "  \n",
    "WITH with_ultrasound AS (\n",
    "  SELECT\n",
    "    weight_pounds,\n",
    "    CAST(is_male AS STRING) AS is_male,\n",
    "    IF(mother_age < 18, 'LOW',\n",
    "         IF(mother_age > 45, 'HIGH',\n",
    "            CAST(mother_age AS STRING))) AS mother_age,\n",
    "    CAST(plurality AS STRING) AS plurality,\n",
    "    CAST(gestation_weeks AS STRING) AS gestation_weeks,\n",
    "    FARM_FINGERPRINT(CONCAT(CAST(YEAR AS STRING), CAST(month AS STRING))) AS hashmonth\n",
    "  FROM\n",
    "    publicdata.samples.natality\n",
    "  WHERE\n",
    "    year > 2000\n",
    "    AND gestation_weeks > 0\n",
    "    AND mother_age > 0\n",
    "    AND plurality > 0\n",
    "    AND weight_pounds > 0\n",
    "),\n",
    "\n",
    "without_ultrasound AS (\n",
    "  SELECT\n",
    "    weight_pounds,\n",
    "    'Unknown' AS is_male,\n",
    "    IF(mother_age < 18, 'LOW',\n",
    "         IF(mother_age > 45, 'HIGH',\n",
    "            CAST(mother_age AS STRING))) AS mother_age,\n",
    "    IF(plurality > 1, 'Multiple', 'Single') AS plurality,\n",
    "    CAST(gestation_weeks AS STRING) AS gestation_weeks,\n",
    "    FARM_FINGERPRINT(CONCAT(CAST(YEAR AS STRING), CAST(month AS STRING))) AS hashmonth\n",
    "  FROM\n",
    "    publicdata.samples.natality\n",
    "  WHERE\n",
    "    year > 2000\n",
    "    AND gestation_weeks > 0\n",
    "    AND mother_age > 0\n",
    "    AND plurality > 0\n",
    "    AND weight_pounds > 0\n",
    "),\n",
    "\n",
    "preprocessed AS (\n",
    "  SELECT * from with_ultrasound\n",
    "  UNION ALL\n",
    "  SELECT * from without_ultrasound\n",
    ")\n",
    "\n",
    "SELECT\n",
    "    weight_pounds,\n",
    "    is_male,\n",
    "    mother_age,\n",
    "    plurality,\n",
    "    gestation_weeks\n",
    "FROM\n",
    "    preprocessed\n",
    "WHERE\n",
    "  ABS(MOD(hashmonth, 4)) < 3"
   ]
  },
  {
   "cell_type": "markdown",
   "metadata": {
    "colab_type": "text",
    "id": "kQw9y9pGD5bQ"
   },
   "source": [
    "## Training Statistics\n",
    "\n",
    "While the new model is training, review the training statistics in the BigQuery UI to see the below model training: https://bigquery.cloud.google.com/\n",
    "\n",
    "The training details may also be viewed after the training completes from this notebook."
   ]
  },
  {
   "cell_type": "markdown",
   "metadata": {},
   "source": [
    "#### **Exercise 5**\n",
    "\n",
    "Just as in Exercise 2 above, let's plot the train and eval curve using the TRAINING_INFO from the model training job for the `babyweight_model_fc` model we trained above. Complete the TODO to create a Pandas dataframe that has the TRAINING_INFO from the training job. "
   ]
  },
  {
   "cell_type": "code",
   "execution_count": null,
   "metadata": {
    "colab": {
     "autoexec": {
      "startup": false,
      "wait_interval": 0
     }
    },
    "colab_type": "code",
    "id": "0Tl-hmIxD5bR",
    "outputId": "cc6a30e4-0001-4337-b4fa-96b0503b1f31"
   },
   "outputs": [],
   "source": [
    "bq = bigquery.Client(project=PROJECT)\n",
    "\n",
    "df = # TODO: Your code goes here\n",
    "\n",
    "# plot both lines in same graph\n",
    "import matplotlib.pyplot as plt\n",
    "plt.plot( 'iteration', 'loss', data=df, marker='o', color='orange', linewidth=2)\n",
    "plt.plot( 'iteration', 'eval_loss', data=df, marker='', color='green', linewidth=2, linestyle='dashed')\n",
    "plt.xlabel('iteration')\n",
    "plt.ylabel('loss')\n",
    "plt.legend();"
   ]
  },
  {
   "cell_type": "markdown",
   "metadata": {
    "colab_type": "text",
    "id": "1jlHzJqfD5bU"
   },
   "source": [
    "## Make a prediction with the new model\n",
    "\n"
   ]
  },
  {
   "cell_type": "markdown",
   "metadata": {
    "colab_type": "text",
    "id": "EGo8fj9qD5bU"
   },
   "source": [
    "Perhaps it is of interest to make a prediction of the baby's weight given a number of other factors: Male, Mother is 28 years old, Mother will only have one child, and the baby was born after 38 weeks of pregnancy.\n",
    "\n",
    "To make this prediction, these values will be passed into the SELECT statement."
   ]
  },
  {
   "cell_type": "markdown",
   "metadata": {},
   "source": [
    "#### **Exercise 6**\n",
    "\n",
    "Use your newly trained `babyweight_model_fc` to predict the birth weight of a baby that have the following characteristics\n",
    "- the baby is male\n",
    "- the mother's age is 28\n",
    "- there are not multiple babies (i.e., no twins, triplets, etc)\n",
    "- the baby had 38 weeks of gestation"
   ]
  },
  {
   "cell_type": "code",
   "execution_count": null,
   "metadata": {
    "colab": {
     "autoexec": {
      "startup": false,
      "wait_interval": 0
     }
    },
    "colab_type": "code",
    "id": "OTLYWJOSD5bV",
    "outputId": "83fe56d1-ddcb-4ca4-86bc-8a1ffa3d9c33"
   },
   "outputs": [],
   "source": [
    "%%bigquery --project $PROJECT\n",
    "SELECT\n",
    "  *\n",
    "FROM\n",
    "  # TODO: Your code goes here"
   ]
  },
  {
   "cell_type": "markdown",
   "metadata": {
    "colab_type": "text",
    "id": "PK_-WNGUD5bX"
   },
   "source": [
    "Copyright 2018 Google Inc. Licensed under the Apache License, Version 2.0 (the \"License\"); you may not use this file except in compliance with the License. You may obtain a copy of the License at http://www.apache.org/licenses/LICENSE-2.0 Unless required by applicable law or agreed to in writing, software distributed under the License is distributed on an \"AS IS\" BASIS, WITHOUT WARRANTIES OR CONDITIONS OF ANY KIND, either express or implied. See the License for the specific language governing permissions and limitations under the License"
   ]
  }
 ],
 "metadata": {
  "colab": {
   "default_view": {},
   "name": "babyweight_bqml.ipynb",
   "provenance": [],
   "version": "0.3.2",
   "views": {}
  },
  "kernelspec": {
   "display_name": "Python 3",
   "language": "python",
   "name": "python3"
  },
  "language_info": {
   "codemirror_mode": {
    "name": "ipython",
    "version": 3
   },
   "file_extension": ".py",
   "mimetype": "text/x-python",
   "name": "python",
   "nbconvert_exporter": "python",
   "pygments_lexer": "ipython3",
   "version": "3.5.3"
  }
 },
 "nbformat": 4,
 "nbformat_minor": 4
}
