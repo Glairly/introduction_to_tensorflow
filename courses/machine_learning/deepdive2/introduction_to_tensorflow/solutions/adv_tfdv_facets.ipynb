{
 "cells": [
  {
   "cell_type": "markdown",
   "metadata": {
    "colab_type": "text",
    "id": "iVkPBosnIFlu"
   },
   "source": [
    "# Feature Analysis Using TensorFlow Data Validation and Facets\n",
    "\n",
    "\n",
    "## Learning Objectives\n",
    "\n",
    "1. Use TFRecords to load record-oriented binary format data\n",
    "2. Use TFDV to generate statistics and Facets to visualize the data\n",
    "3. Use the TFDV widget to answer questions\n",
    "4. Analyze label distribution for subset groups \n",
    " \n",
    "\n",
    "## Introduction \n",
    "\n",
    "Bias can manifest in any part of a typical machine learning pipeline, from an unrepresentative dataset, to learned model representations, to the way in which the results are presented to the user. Errors that result from this bias can disproportionately impact some users more than others.\n",
    "\n",
    "[TensorFlow Data Validation](https://www.tensorflow.org/tfx/data_validation/get_started) (TFDV) is one tool you can use to analyze your data to find potential problems in your data, such as missing values and data imbalances - that can lead to Fairness disparities.  The TFDV tool analyzes training and serving data to compute descriptive statistics, infer a schema, and detect data anomalies.  [Facets Overview](https://pair-code.github.io/facets/) provides a succinct visualization of these statistics for easy browsing. Both the TFDV and Facets are tools that are part of the [Fairness Indicators](https://www.tensorflow.org/tfx/guide/fairness_indicators).\n",
    "\n",
    "In this notebook, we use TFDV to compute descriptive statistics that provide a quick overview of the data in terms of the features that are present and the shapes of their value distributions.  We use Facets Overview to visualize these statistics using the Civil Comments dataset.  \n",
    "\n",
    "Each learning objective will correspond to a __#TODO__ in the [student lab notebook](../labs/adv_tfdv_facets.ipynb) -- try to complete that notebook first before reviewing this solution notebook. \n"
   ]
  },
  {
   "cell_type": "markdown",
   "metadata": {},
   "source": [
    "## Set up environment variables and load necessary libraries \n",
    "We will start by importing the necessary dependencies for the libraries we'll be using in this exercise.  First, run the cell below to install Fairness Indicators. \n",
    "\n",
    "**NOTE:**  You can ignore the \"pip\" being invoked by an old script wrapper, as it will not affect the lab's functionality.\n"
   ]
  },
  {
   "cell_type": "code",
   "execution_count": null,
   "metadata": {
    "tags": []
   },
   "outputs": [],
   "source": [
    "# Fairness Indicators is designed to support in evaluating, improving, and comparing models for fairness concerns.\n",
    "!pip3 install fairness-indicators==0.1.2 --user"
   ]
  },
  {
   "cell_type": "markdown",
   "metadata": {},
   "source": [
    "<strong>Restart the kernel</strong> after you do a pip3 install (click on the <strong>Restart the kernel</strong> button above)."
   ]
  },
  {
   "cell_type": "markdown",
   "metadata": {},
   "source": [
    "Kindly ignore the deprecation warnings and incompatibility errors."
   ]
  },
  {
   "cell_type": "markdown",
   "metadata": {
    "colab_type": "text",
    "id": "mdLlKWbIlxYH"
   },
   "source": [
    "Next, import all the dependencies we'll use in this exercise, which include Fairness Indicators, TensorFlow Data Validation (tfdv), and the What-If tool (WIT) Facets Overview."
   ]
  },
  {
   "cell_type": "code",
   "execution_count": null,
   "metadata": {
    "colab": {},
    "colab_type": "code",
    "id": "6E__x2XkJDFW"
   },
   "outputs": [],
   "source": [
    "# You can use any Python source file as a module by executing an import statement in some other Python source file.\n",
    "# The import statement combines two operations; it searches for the named module, then it binds the results of that search\n",
    "# to a name in the local scope.\n",
    "# %tensorflow_version 2.x\n",
    "import sys, os\n",
    "import warnings\n",
    "warnings.filterwarnings('ignore')\n",
    "#os.environ['TF_CPP_MIN_LOG_LEVEL'] = '3'  # Ignore deprecation warnings\n",
    "import tempfile\n",
    "import apache_beam as beam\n",
    "import numpy as np\n",
    "import pandas as pd\n",
    "from datetime import datetime\n",
    "\n",
    "import tensorflow_hub as hub\n",
    "import tensorflow as tf\n",
    "import tensorflow_model_analysis as tfma\n",
    "import tensorflow_data_validation as tfdv\n",
    "from tensorflow_model_analysis.addons.fairness.post_export_metrics import fairness_indicators\n",
    "from tensorflow_model_analysis.addons.fairness.view import widget_view\n",
    "from fairness_indicators.examples import util\n",
    "\n",
    "import warnings\n",
    "warnings.filterwarnings(\"ignore\")\n",
    "\n",
    "from witwidget.notebook.visualization import WitConfigBuilder\n",
    "from witwidget.notebook.visualization import WitWidget\n",
    "\n",
    "\n",
    "print(tf.version.VERSION) \n",
    "print(tf) # This statement shows us what version of Python we are currently running."
   ]
  },
  {
   "cell_type": "markdown",
   "metadata": {
    "colab_type": "text",
    "id": "J3R2QWkru1WN"
   },
   "source": [
    "### About the Civil Comments dataset\n",
    "\n",
    "Click below to learn more about the Civil Comments dataset, and how we've preprocessed it for this exercise."
   ]
  },
  {
   "cell_type": "markdown",
   "metadata": {
    "colab_type": "text",
    "id": "ZZswcJJMCDjU"
   },
   "source": [
    "The Civil Comments dataset comprises approximately 2 million public comments that were submitted to the Civil Comments platform. [Jigsaw](https://jigsaw.google.com/) sponsored the effort to compile and annotate these comments for ongoing [research](https://arxiv.org/abs/1903.04561); they've also hosted competitions on [Kaggle](https://www.kaggle.com/c/jigsaw-unintended-bias-in-toxicity-classification) to help classify toxic comments as well as minimize unintended model bias. \n",
    "\n",
    "#### Features\n",
    "\n",
    "Within the Civil Comments data, a subset of comments are tagged with a variety of identity attributes pertaining to gender, sexual orientation, religion, race, and ethnicity. Each identity annotation column contains a value that represents the percentage of annotators who categorized a comment as containing references to that identity. Multiple identities may be present in a comment.\n",
    "\n",
    "**NOTE:** These identity attributes are intended *for evaluation purposes only*, to assess how well a classifier trained solely on the comment text performs on different tag sets.\n",
    "\n",
    "To collect these identity labels, each comment was reviewed by up to 10 annotators, who were asked to indicate all identities that were mentioned in the comment. For example, annotators were posed the question: \"What genders are mentioned in the comment?\", and asked to choose all of the following categories that were applicable.\n",
    "\n",
    "* Male\n",
    "* Female\n",
    "* Transgender\n",
    "* Other gender\n",
    "* No gender mentioned\n",
    "\n",
    "**NOTE:** *We recognize the limitations of the categories used in the original dataset, and acknowledge that these terms do not encompass the full range of vocabulary used in describing gender.*\n",
    "\n",
    "Jigsaw used these ratings to generate an aggregate score for each identity attribute representing the percentage of raters who said the identity was mentioned in the comment. For example, if 10 annotators reviewed a comment, and 6 said that the comment mentioned the identity \"female\" and 0 said that the comment mentioned the identity \"male,\" the comment would receive a `female` score of `0.6` and a `male` score of `0.0`.\n",
    "\n",
    "**NOTE:** For the purposes of annotation, a comment was considered to \"mention\" gender if it contained a comment about gender issues (e.g., a discussion about feminism, wage gap between men and women, transgender rights, etc.), gendered language, or gendered insults. Use of \"he,\" \"she,\" or gendered names (e.g., Donald, Margaret) did not require a gender label. \n",
    "\n",
    "#### Label\n",
    "\n",
    "Each comment was rated by up to 10 annotators for toxicity, who each classified it with one of the following ratings.\n",
    "\n",
    "* Very Toxic\n",
    "* Toxic\n",
    "* Hard to Say\n",
    "* Not Toxic\n",
    "\n",
    "Again, Jigsaw used these ratings to generate an aggregate toxicity \"score\" for each comment (ranging from `0.0` to `1.0`) to serve as the [label](https://developers.google.com/machine-learning/glossary?utm_source=Colab&utm_medium=fi-colab&utm_campaign=fi-practicum&utm_content=glossary&utm_term=label#label), representing the fraction of annotators who labeled the comment either \"Very Toxic\" or \"Toxic.\" For example, if 10 annotators rated a comment, and 3 of them labeled it \"Very Toxic\" and 5 of them labeled it \"Toxic\", the comment would receive a toxicity score of `0.8`.\n",
    "\n",
    "**NOTE:** For more information on the Civil Comments labeling schema, see the [Data](https://www.kaggle.com/c/jigsaw-unintended-bias-in-toxicity-classification/data) section of the Jigsaw Untended Bias in Toxicity Classification Kaggle competition.\n",
    "\n",
    "### Preprocessing the data\n",
    "For the purposes of this exercise, we converted toxicity and identity columns to booleans in order to work with our neural net and metrics calculations. In the preprocessed dataset, we considered any value ≥ 0.5 as True (i.e., a comment is considered toxic if 50% or more crowd raters labeled it as toxic).\n",
    "\n",
    "For identity labels, the threshold 0.5 was chosen and the identities were grouped together by their categories. For example, if one comment has `{ male: 0.3, female: 1.0, transgender: 0.0, heterosexual: 0.8, homosexual_gay_or_lesbian: 1.0 }`, after processing, the data will be `{ gender: [female], sexual_orientation: [heterosexual, homosexual_gay_or_lesbian] }`.\n",
    "\n",
    "**NOTE:** Missing identity fields were converted to False.\n"
   ]
  },
  {
   "cell_type": "markdown",
   "metadata": {
    "colab_type": "text",
    "id": "0YNqAJW5JjZD"
   },
   "source": [
    "### Use TFRecords to load record-oriented binary format data\n",
    "\n",
    "\n",
    "\n",
    "\n",
    "-------------------------------------------------------------------------------------------------------\n",
    "\n",
    "The [TFRecord format](https://www.tensorflow.org/tutorials/load_data/tfrecord) is a simple [Protobuf](https://developers.google.com/protocol-buffers)-based format for storing a sequence of binary records. It gives you and your machine learning models to handle arbitrarily large datasets over the network because it:\n",
    "1. Splits up large files into 100-200MB chunks\n",
    "2. Stores the results as serialized binary messages for faster ingestion\n",
    "\n",
    "If you already have a dataset in TFRecord format, you can use the tf.keras.utils functions for accessing the data (as you will below!). If you want to practice creating your own TFRecord datasets you can do so outside of this lab by [viewing the documentation here](https://www.tensorflow.org/tutorials/load_data/tfrecord). \n",
    "\n",
    "#### TODO 1: Use the utility functions tf.keras to download and import our datasets\n",
    "Run the following cell to download and import the training and validation preprocessed datasets. "
   ]
  },
  {
   "cell_type": "code",
   "execution_count": null,
   "metadata": {
    "colab": {},
    "colab_type": "code",
    "id": "duPWGTQAvYKK"
   },
   "outputs": [],
   "source": [
    "download_original_data = False #@param {type:\"boolean\"}\n",
    "\n",
    "\n",
    "# TODO 1\n",
    "\n",
    "# Downloads a file from a URL if it is not already in the cache using the `tf.keras.utils.get_file()` function.\n",
    "if download_original_data:\n",
    "  train_tf_file = tf.keras.utils.get_file('train_tf.tfrecord',\n",
    "                                          'https://storage.googleapis.com/civil_comments_dataset/train_tf.tfrecord')\n",
    "  validate_tf_file = tf.keras.utils.get_file('validate_tf.tfrecord',\n",
    "                                             'https://storage.googleapis.com/civil_comments_dataset/validate_tf.tfrecord')\n",
    "\n",
    "  # The identity terms list will be grouped together by their categories\n",
    "  # (see 'IDENTITY_COLUMNS') on threshould 0.5. Only the identity term column,\n",
    "  # text column and label column will be kept after processing.\n",
    "  train_tf_file = util.convert_comments_data(train_tf_file)\n",
    "  validate_tf_file = util.convert_comments_data(validate_tf_file)\n",
    "\n",
    "# TODO 1a\n",
    "\n",
    "else:\n",
    "  train_tf_file = tf.keras.utils.get_file('train_tf_processed.tfrecord',\n",
    "                                          'https://storage.googleapis.com/civil_comments_dataset/train_tf_processed.tfrecord')\n",
    "  validate_tf_file = tf.keras.utils.get_file('validate_tf_processed.tfrecord',\n",
    "                                             'https://storage.googleapis.com/civil_comments_dataset/validate_tf_processed.tfrecord')"
   ]
  },
  {
   "cell_type": "markdown",
   "metadata": {
    "colab_type": "text",
    "id": "aLup7wY0_Q3K"
   },
   "source": [
    "### Use TFDV to generate statistics and Facets to visualize the data\n",
    "  \n",
    "\n",
    "TensorFlow Data Validation supports data stored in a TFRecord file, a CSV input format, with extensibility for other common formats. You can find the available data decoders [here](https://github.com/tensorflow/data-validation/tree/master/tensorflow_data_validation/coders). In addition, TFDV provides the  [tfdv.generate_statistics_from_dataframe](https://www.tensorflow.org/tfx/data_validation/api_docs/python/tfdv/generate_statistics_from_dataframe) utility function for users with in-memory data represented as a pandas DataFrame.\n",
    "\n",
    "In addition to computing a default set of data statistics, TFDV can also compute statistics for semantic domains (e.g., images, text). To enable computation of semantic domain statistics, pass a tfdv.StatsOptions object with enable_semantic_domain_stats set to True to tfdv.generate_statistics_from_tfrecord.Before we train the model, let's do a quick audit of our training data using [TensorFlow Data Validation](https://www.tensorflow.org/tfx/data_validation/get_started), so we can better understand our data distribution.  \n",
    "\n",
    "#### TODO 2: Use TFDV to get quick statistics on your dataset\n",
    "\n",
    "The following cell may take 2–3 minutes to run. Please ignore the deprecation warnings.\n",
    "\n",
    "**NOTE:**  Please re-run the below cell if you are not getting the TensorFlow Data Validation widget in the output."
   ]
  },
  {
   "cell_type": "code",
   "execution_count": null,
   "metadata": {
    "colab": {},
    "colab_type": "code",
    "id": "vkzcE_g8_m_h"
   },
   "outputs": [],
   "source": [
    "\n",
    "# TODO 2\n",
    "\n",
    "# The computation of statistics using TFDV.  The returned value is a DatasetFeatureStatisticsList protocol buffer. \n",
    "stats = tfdv.generate_statistics_from_tfrecord(data_location=train_tf_file)\n",
    "\n",
    "# TODO 2a\n",
    "\n",
    "# A visualization of the statistics using Facets Overview.\n",
    "tfdv.visualize_statistics(stats)"
   ]
  },
  {
   "cell_type": "markdown",
   "metadata": {
    "colab_type": "text",
    "id": "wZU1Djze6E-s"
   },
   "source": [
    "### TODO 3:  Use the TensorFlow Data Validation widget above to answer the following questions."
   ]
  },
  {
   "cell_type": "markdown",
   "metadata": {
    "colab_type": "text",
    "id": "ne2_vKAb-XGD"
   },
   "source": [
    "#### **1. How many total examples are in the training dataset?**"
   ]
  },
  {
   "cell_type": "markdown",
   "metadata": {
    "colab_type": "text",
    "id": "UFBqqnRD-Zkj"
   },
   "source": [
    "#### Solution\n",
    "\n",
    "See below solution.\n"
   ]
  },
  {
   "cell_type": "markdown",
   "metadata": {
    "colab_type": "text",
    "id": "XSkOfchI-arC"
   },
   "source": [
    "**There are 1.08 million total examples in the training dataset.**\n",
    "\n",
    "  The count column tells us how many examples there are for a given feature.  Each feature (`sexual_orientation`, `comment_text`, `gender`, etc.) has 1.08 million examples. The missing column tells us what percentage of examples are missing that feature. \n",
    "\n",
    "![Screenshot of first row of Categorical Features table in the TFDV widget, with 1.08 million count of examples and 0% missing examples highlighted](https://developers.google.com/machine-learning/practica/fairness-indicators/colab-images/tfdv_screenshot_exercise1.png)  \n",
    "  \n",
    "Each feature is missing from 0% of examples, so we know that the per-feature example count of 1.08 million is also the total number of examples in the dataset."
   ]
  },
  {
   "cell_type": "markdown",
   "metadata": {
    "colab_type": "text",
    "id": "_PgFNm6sAZB2"
   },
   "source": [
    "#### **2. How many unique values are there for the `gender` feature? What are they, and what are the frequencies of each of these values?**\n",
    "\n",
    "**NOTE #1:** `gender` and the other identity features (`sexual_orientation`, `religion`, `disability`, and `race`) are included in this dataset for evaluation purposes only, so we can assess model performance on different identity slices. The only feature we will use for model training is `comment_text`.\n",
    "\n",
    "**NOTE #2:** *We recognize the limitations of the categories used in the original dataset, and acknowledge that these terms do not encompass the full range of vocabulary used in describing gender.*"
   ]
  },
  {
   "cell_type": "markdown",
   "metadata": {
    "colab_type": "text",
    "id": "6KmrCS-uAz0s"
   },
   "source": [
    "#### Solution\n",
    "\n",
    "See below solution."
   ]
  },
  {
   "cell_type": "markdown",
   "metadata": {
    "colab_type": "text",
    "id": "wkc7P1nvA4cw"
   },
   "source": [
    "The **unique** column of the **Categorical Features** table tells us that there are 4 unique values for the `gender` feature.\n",
    "\n",
    "To view the 4 values and their frequencies, we can click on the **SHOW RAW DATA** button:\n",
    "\n",
    "![\"gender\" row of the \"Categorical Data\" table in the TFDV widget, with raw data highlighted.](https://developers.google.com/machine-learning/practica/fairness-indicators/colab-images/tfdv_screenshot_exercise2.png)\n",
    "\n",
    "The raw data table shows that there are 32,208 examples with a gender value of `female`, 26,758 examples with a value of `male`, 1,551 examples with a value of `transgender`, and 4 examples with a value of `other gender`.\n",
    "\n",
    "\n",
    "\n"
   ]
  },
  {
   "cell_type": "markdown",
   "metadata": {
    "colab_type": "text",
    "id": "NDUO57bdNUQR"
   },
   "source": [
    "**NOTE:** As described [earlier](#scrollTo=J3R2QWkru1WN), a `gender` feature can contain zero or more of these 4 values, depending on the content of the comment. For example, a comment containing the text \"I am a transgender man\" will have both `transgender` and `male` as `gender` values, whereas a comment that does not reference gender at all will have an empty/false `gender` value."
   ]
  },
  {
   "cell_type": "markdown",
   "metadata": {
    "colab_type": "text",
    "id": "wX62Ktwp-qoF"
   },
   "source": [
    "#### **3. What percentage of total examples are labeled toxic? Overall, is this a class-balanced dataset (relatively even split of examples between positive and negative classes) or a class-imbalanced dataset (majority of examples are in one class)?**\n",
    "\n",
    "**NOTE:** In this dataset, a `toxicity` value of `0` signifies \"not toxic,\"  and a `toxicity` value of `1` signifies \"toxic.\""
   ]
  },
  {
   "cell_type": "markdown",
   "metadata": {
    "colab_type": "text",
    "id": "IvvxNMgM-6A2"
   },
   "source": [
    "#### Solution\n",
    "\n",
    "See below solution."
   ]
  },
  {
   "cell_type": "markdown",
   "metadata": {
    "colab_type": "text",
    "id": "QmCtkzZqOvC2"
   },
   "source": [
    "**7.98 percent of examples are toxic.**\n",
    "\n",
    "Under **Numeric Features**, we can see the distribution of values for the `toxicity` feature. 92.02% of examples have a value of 0 (which signifies \"non-toxic\"), so 7.98% of examples are toxic.\n",
    "\n",
    "![Screenshot of the \"toxicity\" row in the Numeric Features table in the TFDV widget, highlighting the \"zeros\" column showing that 92.01% of examples have a toxicity value of 0.](https://developers.google.com/machine-learning/practica/fairness-indicators/colab-images/tfdv_screenshot_exercise3.png)\n",
    "\n",
    "This is a [**class-imbalanced dataset**](https://developers.google.com/machine-learning/glossary?utm_source=Colab&utm_medium=fi-colab&utm_campaign=fi-practicum&utm_content=glossary&utm_term=class-imbalanced-dataset#class-imbalanced-dataset), as the overwhelming majority of examples (over 90%) are classified as nontoxic."
   ]
  },
  {
   "cell_type": "markdown",
   "metadata": {},
   "source": [
    "Notice that there is one numeric feature (count of toxic comments) and six categorical features."
   ]
  },
  {
   "cell_type": "markdown",
   "metadata": {},
   "source": [
    "### TODO 4: Analyze label distribution for subset groups "
   ]
  },
  {
   "cell_type": "markdown",
   "metadata": {
    "colab_type": "text",
    "id": "9MGLCsVhGWz0"
   },
   "source": [
    "Run the following code to analyze label distribution for the subset of examples that contain a `gender` value\n",
    "\n",
    "\n",
    "**NOTE:** *The cell should run for just a few minutes*"
   ]
  },
  {
   "cell_type": "code",
   "execution_count": null,
   "metadata": {
    "cellView": "form",
    "colab": {},
    "colab_type": "code",
    "id": "f5pEWIkgLTKz"
   },
   "outputs": [],
   "source": [
    "#@title Calculate label distribution for gender-related examples\n",
    "raw_dataset = tf.data.TFRecordDataset(train_tf_file)\n",
    "\n",
    "toxic_gender_examples = 0\n",
    "nontoxic_gender_examples = 0\n",
    "\n",
    "# TODO 4\n",
    "\n",
    "# There are 1,082,924 examples in the dataset\n",
    "# The `take()` method returns the specified number of elements starting from the first element.\n",
    "for raw_record in raw_dataset.take(1082924):\n",
    "  example = tf.train.Example()\n",
    "  example.ParseFromString(raw_record.numpy())\n",
    "  if str(example.features.feature[\"gender\"].bytes_list.value) != \"[]\":\n",
    "    if str(example.features.feature[\"toxicity\"].float_list.value) == \"[1.0]\":\n",
    "      toxic_gender_examples += 1\n",
    "    else:\n",
    "      nontoxic_gender_examples += 1\n",
    "\n",
    "# TODO 4a\n",
    "\n",
    "print(\"Toxic Gender Examples: %s\" % toxic_gender_examples)\n",
    "print(\"Nontoxic Gender Examples: %s\" % nontoxic_gender_examples)"
   ]
  },
  {
   "cell_type": "markdown",
   "metadata": {
    "colab_type": "text",
    "id": "WJag4cEKNINy"
   },
   "source": [
    "#### **What percentage of `gender` examples are labeled toxic? Compare this percentage to the percentage of total examples that are labeled toxic from #3 above. What, if any, fairness concerns can you identify based on this comparison?**"
   ]
  },
  {
   "cell_type": "markdown",
   "metadata": {
    "colab_type": "text",
    "id": "2KK3VWzkHmJ7"
   },
   "source": [
    "There are 7,189 gender-related examples that are labeled toxic, which represent 14.7% of all gender-related examples.\n",
    "\n",
    "The percentage of gender-related examples that are toxic (14.7%) is nearly double the percentage of toxic examples overall (7.98%). In other words, in our dataset, gender-related comments are almost two times more likely than comments overall to be labeled as toxic.\n",
    "\n",
    "This skew suggests that a model trained on this dataset might learn a correlation between gender-related content and toxicity. This raises fairness considerations, as the model might be more likely to classify nontoxic comments as toxic if they contain gender terminology, which could lead to [disparate impact](https://developers.google.com/machine-learning/glossary?utm_source=Colab&utm_medium=fi-colab&utm_campaign=fi-practicum&utm_content=glossary&utm_term=disparate-impact#disparate-impact) for gender subgroups. "
   ]
  },
  {
   "cell_type": "markdown",
   "metadata": {},
   "source": [
    "Copyright 2021 Google Inc.\n",
    "Licensed under the Apache License, Version 2.0 (the \"License\"); you may not use this file except in compliance with the License. You may obtain a copy of the License at\n",
    "http://www.apache.org/licenses/LICENSE-2.0\n",
    "Unless required by applicable law or agreed to in writing, software distributed under the License is distributed on an \"AS IS\" BASIS, WITHOUT WARRANTIES OR CONDITIONS OF ANY KIND, either express or implied. See the License for the specific language governing permissions and limitations under the License."
   ]
  }
 ],
 "metadata": {
  "colab": {
   "collapsed_sections": [
    "J3R2QWkru1WN",
    "UFBqqnRD-Zkj",
    "6KmrCS-uAz0s",
    "IvvxNMgM-6A2",
    "-J4hbOhgHZid",
    "tGyACRd8oFwP",
    "FQGWSdrJy08B",
    "LlkfgynX0yfF",
    "FBhBsevUOinO",
    "P5MBQR7EF6ny",
    "OaL3qgHCcmwG"
   ],
   "name": "Copy of Fairness Exercise 1: Explore the Model",
   "provenance": [],
   "toc_visible": true
  },
  "kernelspec": {
   "display_name": "Python 3",
   "language": "python",
   "name": "python3"
  },
  "language_info": {
   "codemirror_mode": {
    "name": "ipython",
    "version": 3
   },
   "file_extension": ".py",
   "mimetype": "text/x-python",
   "name": "python",
   "nbconvert_exporter": "python",
   "pygments_lexer": "ipython3",
   "version": "3.7.7"
  }
 },
 "nbformat": 4,
 "nbformat_minor": 4
}
