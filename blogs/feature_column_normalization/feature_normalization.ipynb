{
 "cells": [
  {
   "cell_type": "markdown",
   "metadata": {
    "colab": {
     "autoexec": {
      "startup": false,
      "wait_interval": 0
     },
     "base_uri": "https://localhost:8080/",
     "height": 17
    },
    "colab_type": "code",
    "deletable": true,
    "editable": true,
    "executionInfo": {
     "elapsed": 352,
     "status": "ok",
     "timestamp": 1530144465190,
     "user": {
      "displayName": "Chris Rawles",
      "photoUrl": "//lh4.googleusercontent.com/-y5jgaxSBf7U/AAAAAAAAAAI/AAAAAAAAAAg/t9OhWH_FsNk/s50-c-k-no/photo.jpg",
      "userId": "108065192564137085250"
     },
     "user_tz": 240
    },
    "id": "iWEJt3g2trTx",
    "outputId": "3e426f7b-2789-4f1b-befd-77cd2bf9b5de"
   },
   "source": [
    "## How to normalize features in TensorFlow"
   ]
  },
  {
   "cell_type": "code",
   "execution_count": null,
   "metadata": {
    "colab": {
     "autoexec": {
      "startup": false,
      "wait_interval": 0
     },
     "base_uri": "https://localhost:8080/",
     "height": 202
    },
    "colab_type": "code",
    "collapsed": false,
    "deletable": true,
    "editable": true,
    "executionInfo": {
     "elapsed": 2393,
     "status": "ok",
     "timestamp": 1531404855794,
     "user": {
      "displayName": "Chris Rawles",
      "photoUrl": "//lh4.googleusercontent.com/-y5jgaxSBf7U/AAAAAAAAAAI/AAAAAAAAAAg/t9OhWH_FsNk/s50-c-k-no/photo.jpg",
      "userId": "108065192564137085250"
     },
     "user_tz": 240
    },
    "id": "V3gsgdkgci_u",
    "outputId": "49f5da99-d6cd-405f-ad05-a2831e6abff5"
   },
   "outputs": [],
   "source": [
    "import shutil\n",
    "\n",
    "import numpy as np\n",
    "import pandas as pd\n",
    "import tensorflow as tf\n",
    "\n",
    "\n",
    "df = pd.read_csv(\"https://storage.googleapis.com/ml_universities/california_housing_train.csv\", sep=\",\")\n",
    "\n",
    "msk = np.random.rand(len(df)) < 0.8\n",
    "traindf = df[msk]\n",
    "evaldf = df[~msk]\n",
    "traindf.head()"
   ]
  },
  {
   "cell_type": "code",
   "execution_count": null,
   "metadata": {
    "colab": {
     "autoexec": {
      "startup": false,
      "wait_interval": 0
     },
     "base_uri": "https://localhost:8080/",
     "height": 125
    },
    "colab_type": "code",
    "collapsed": false,
    "deletable": true,
    "editable": true,
    "executionInfo": {
     "elapsed": 796,
     "status": "ok",
     "timestamp": 1531404856687,
     "user": {
      "displayName": "Chris Rawles",
      "photoUrl": "//lh4.googleusercontent.com/-y5jgaxSBf7U/AAAAAAAAAAI/AAAAAAAAAAg/t9OhWH_FsNk/s50-c-k-no/photo.jpg",
      "userId": "108065192564137085250"
     },
     "user_tz": 240
    },
    "id": "vw6nMweu7ENH",
    "outputId": "ec2a2170-e7c8-455f-8236-88532b1e6604"
   },
   "outputs": [],
   "source": [
    "def get_normalization_parameters(traindf, features):\n",
    "  \"\"\"Get the normalization parameters (E.g., mean, std) for traindf for \n",
    "  features. We will use these parameters for training, eval, and serving.\"\"\"\n",
    "  \n",
    "  def _z_score_params(column):\n",
    "    mean = traindf[column].mean()\n",
    "    std = traindf[column].std()\n",
    "    return {'mean': mean, 'std': std}\n",
    "  \n",
    "  normalization_parameters = {}\n",
    "  for column in features:\n",
    "    normalization_parameters[column] = _z_score_params(column)\n",
    "  return normalization_parameters\n",
    "\n",
    "NUMERIC_FEATURES = ['housing_median_age', 'total_rooms', 'total_bedrooms',\n",
    "                    'population', 'households', 'median_income']\n",
    "normalization_parameters = get_normalization_parameters(traindf,\n",
    "                                                        NUMERIC_FEATURES)\n",
    "normalization_parameters"
   ]
  },
  {
   "cell_type": "code",
   "execution_count": null,
   "metadata": {
    "colab": {
     "autoexec": {
      "startup": false,
      "wait_interval": 0
     }
    },
    "colab_type": "code",
    "collapsed": true,
    "deletable": true,
    "editable": true,
    "id": "L4tC2AyetTfa"
   },
   "outputs": [],
   "source": [
    "def _numeric_column_normalized(column_name, normalizer_fn):\n",
    "  return tf.feature_column.numeric_column(column_name,\n",
    "                                          normalizer_fn=normalizer_fn)\n",
    "\n",
    "\n",
    "# Define your feature columns\n",
    "def create_feature_cols(features, use_normalization):\n",
    "  \"\"\"Create our feature columns using tf.feature_column. This function will \n",
    "  get executed during training, evaluation, and serving.\"\"\"\n",
    "  normalized_feature_columns = []\n",
    "  for column_name in features:\n",
    "    if use_normalization:\n",
    "      column_params = normalization_parameters[column_name]\n",
    "      mean = column_params['mean']\n",
    "      std = column_params['std']\n",
    "      def normalize_column(col):  # Use mean, std defined above.\n",
    "        return (col - mean)/std\n",
    "      normalizer_fn = normalize_column\n",
    "    else:\n",
    "      normalizer_fn = None\n",
    "    normalized_feature_columns.append(_numeric_column_normalized(column_name,\n",
    "                                                              normalizer_fn))\n",
    "  return normalized_feature_columns"
   ]
  },
  {
   "cell_type": "code",
   "execution_count": null,
   "metadata": {
    "colab": {
     "autoexec": {
      "startup": false,
      "wait_interval": 0
     }
    },
    "colab_type": "code",
    "collapsed": true,
    "deletable": true,
    "editable": true,
    "id": "jokD5LlIc9nd"
   },
   "outputs": [],
   "source": [
    "def input_fn(df, shuffle=True):\n",
    "  \"\"\"For training and evaluation inputs.\"\"\"\n",
    "  return tf.estimator.inputs.pandas_input_fn(\n",
    "    x = df,\n",
    "    y = df[\"median_house_value\"]/100000,  # Scale target.\n",
    "    shuffle = shuffle)\n",
    "\n",
    "def train_and_evaluate(use_normalization, outdir):\n",
    "  shutil.rmtree(outdir, ignore_errors = True) # start fresh each time\n",
    "  \n",
    "  feature_columns = create_feature_cols(NUMERIC_FEATURES, use_normalization)\n",
    "  \n",
    "  run_config = tf.estimator.RunConfig(save_summary_steps=10,\n",
    "                                      model_dir = outdir  # More granular checkpointing for TensorBoard.\n",
    "                                     )\n",
    "  model = tf.estimator.LinearRegressor(feature_columns = feature_columns, config=run_config)\n",
    "  # Training input function.\n",
    "  train_spec = tf.estimator.TrainSpec(input_fn=input_fn(traindf),\n",
    "                                      max_steps=1000)\n",
    "\n",
    "  \n",
    "  def json_serving_input_fn():\n",
    "    \"\"\"Build the serving inputs. For serving real-time predictions\n",
    "    using ml-engine.\"\"\"\n",
    "    inputs = {}\n",
    "    for feat in feature_columns:\n",
    "      inputs[feat.name] = tf.placeholder(shape=[None], dtype=feat.dtype)\n",
    "    return tf.estimator.export.ServingInputReceiver(inputs, inputs)\n",
    "  \n",
    "  # Evaluation and serving input function.\n",
    "  exporter = tf.estimator.FinalExporter('housing', json_serving_input_fn)\n",
    "  eval_spec = tf.estimator.EvalSpec(input_fn=input_fn(evaldf),\n",
    "                                    exporters=[exporter],\n",
    "                                    name='housing-eval')\n",
    "  # Train and evaluate the model.\n",
    "  tf.estimator.train_and_evaluate(model, train_spec, eval_spec)\n",
    "  return model"
   ]
  },
  {
   "cell_type": "code",
   "execution_count": null,
   "metadata": {
    "colab": {
     "autoexec": {
      "startup": false,
      "wait_interval": 0
     },
     "base_uri": "https://localhost:8080/",
     "height": 1441
    },
    "colab_type": "code",
    "collapsed": false,
    "deletable": true,
    "editable": true,
    "executionInfo": {
     "elapsed": 4574,
     "status": "ok",
     "timestamp": 1531404862173,
     "user": {
      "displayName": "Chris Rawles",
      "photoUrl": "//lh4.googleusercontent.com/-y5jgaxSBf7U/AAAAAAAAAAI/AAAAAAAAAAg/t9OhWH_FsNk/s50-c-k-no/photo.jpg",
      "userId": "108065192564137085250"
     },
     "user_tz": 240
    },
    "id": "Fdfy-nRG190n",
    "outputId": "06134c73-ae01-4169-e803-16939d116403"
   },
   "outputs": [],
   "source": [
    "results = train_and_evaluate(False, 'housing_trained')\n",
    "normalized_results = train_and_evaluate(True, 'housing_trained_normalization')"
   ]
  },
  {
   "cell_type": "markdown",
   "metadata": {
    "colab": {
     "autoexec": {
      "startup": false,
      "wait_interval": 0
     },
     "base_uri": "https://localhost:8080/",
     "height": 34
    },
    "colab_type": "code",
    "deletable": true,
    "editable": true,
    "executionInfo": {
     "elapsed": 433,
     "status": "ok",
     "timestamp": 1530145527924,
     "user": {
      "displayName": "Chris Rawles",
      "photoUrl": "//lh4.googleusercontent.com/-y5jgaxSBf7U/AAAAAAAAAAI/AAAAAAAAAAg/t9OhWH_FsNk/s50-c-k-no/photo.jpg",
      "userId": "108065192564137085250"
     },
     "user_tz": 240
    },
    "id": "ceasMqSUcOTm",
    "outputId": "42698cd6-3052-4c4e-a017-b8daf66d6cd0"
   },
   "source": [
    "## Deploy on Google Cloud ML Engine"
   ]
  },
  {
   "cell_type": "markdown",
   "metadata": {
    "deletable": true,
    "editable": true
   },
   "source": [
    "### Test model training locally"
   ]
  },
  {
   "cell_type": "code",
   "execution_count": null,
   "metadata": {
    "collapsed": false,
    "deletable": true,
    "editable": true
   },
   "outputs": [],
   "source": [
    "%%bash\n",
    "OUTPUT_DIR='trained_model'\n",
    "export PYTHONPATH=${PYTHONPATH}:${PWD}/model_code\n",
    "python -m trainer.task --outdir $OUTPUT_DIR --normalize_input 1"
   ]
  },
  {
   "cell_type": "markdown",
   "metadata": {
    "deletable": true,
    "editable": true
   },
   "source": [
    "### Train on the cloud\n",
    "Test cloud parameters (optional)"
   ]
  },
  {
   "cell_type": "code",
   "execution_count": null,
   "metadata": {
    "collapsed": false,
    "deletable": true,
    "editable": true
   },
   "outputs": [],
   "source": [
    "%%bash \n",
    "OUTPUT_DIR='housing_trained_model'\n",
    "JOBNAME=my_ml_job_$(date -u +%y%m%d_%H%M%S)\n",
    "REGION='us-central1'\n",
    "PACKAGE_PATH=$PWD/model_code/trainer\n",
    "\n",
    "gcloud ml-engine local train\\\n",
    "    --package-path=$PACKAGE_PATH\\\n",
    "    --module-name=trainer.task\\\n",
    "    --\\\n",
    "    --outdir=$OUTPUT_DIR\\\n",
    "    --normalize_input=0"
   ]
  },
  {
   "cell_type": "markdown",
   "metadata": {
    "deletable": true,
    "editable": true
   },
   "source": [
    "### Submit job"
   ]
  },
  {
   "cell_type": "code",
   "execution_count": null,
   "metadata": {
    "collapsed": false,
    "deletable": true,
    "editable": true
   },
   "outputs": [],
   "source": [
    "%%bash\n",
    "JOBNAME=my_ml_job_$(date -u +%y%m%d_%H%M%S)\n",
    "REGION='us-central1'\n",
    "BUCKET='gs://crawles-sandbox'\n",
    "OUTPUT_DIR=$BUCKET/'housing_trained_model'\n",
    "PACKAGE_PATH=$PWD/model_code/trainer\n",
    "\n",
    "gcloud ml-engine jobs submit training $JOBNAME \\\n",
    "        --package-path=$PACKAGE_PATH \\\n",
    "        --module-name=trainer.task \\\n",
    "        --region=$REGION \\\n",
    "        --staging-bucket=$BUCKET\\\n",
    "        --scale-tier=BASIC \\\n",
    "        --runtime-version=1.8 \\\n",
    "        -- \\\n",
    "        --outdir=$OUTPUT_DIR\\\n",
    "        --normalize_input=0"
   ]
  }
 ],
 "metadata": {
  "colab": {
   "collapsed_sections": [],
   "default_view": {},
   "name": "feature_normalization.ipynb",
   "provenance": [],
   "version": "0.3.2",
   "views": {}
  },
  "kernelspec": {
   "display_name": "Python 2",
   "language": "python",
   "name": "python2"
  },
  "language_info": {
   "codemirror_mode": {
    "name": "ipython",
    "version": 2
   },
   "file_extension": ".py",
   "mimetype": "text/x-python",
   "name": "python",
   "nbconvert_exporter": "python",
   "pygments_lexer": "ipython2",
   "version": "2.7.15"
  }
 },
 "nbformat": 4,
 "nbformat_minor": 1
}
