{
 "cells": [
  {
   "cell_type": "markdown",
   "metadata": {},
   "source": [
    "<h1> Structured data prediction using BigQuery ML </h1>\n",
    "\n",
    "This notebook illustrates:\n",
    "<ol>\n",
    "<li> Training Machine Learning models using BQML\n",
    "<li> Predicting with model\n",
    "<li> Using spatial queries in BigQuery\n",
    "<li> Building a linear regression model with feature crosses\n",
    "</ol>\n",
    "\n",
    "The goal is to predict taxifare given the starting and ending points.\n",
    "\n",
    "\n",
    "## Set up notebook environment"
   ]
  },
  {
   "cell_type": "code",
   "execution_count": null,
   "metadata": {},
   "outputs": [],
   "source": [
    "%pip install google-cloud-bigquery seaborn"
   ]
  },
  {
   "cell_type": "markdown",
   "metadata": {},
   "source": [
    "Restart the kernel so that the new packages are picked up."
   ]
  },
  {
   "cell_type": "code",
   "execution_count": 1,
   "metadata": {},
   "outputs": [],
   "source": [
    "# change these to try this notebook out\n",
    "PROJECT = 'cloud-training-demos'"
   ]
  },
  {
   "cell_type": "code",
   "execution_count": 2,
   "metadata": {},
   "outputs": [],
   "source": [
    "import os\n",
    "os.environ['PROJECT'] = PROJECT"
   ]
  },
  {
   "cell_type": "code",
   "execution_count": 3,
   "metadata": {},
   "outputs": [
    {
     "name": "stderr",
     "output_type": "stream",
     "text": [
      "Updated property [core/project].\n"
     ]
    }
   ],
   "source": [
    "%%bash\n",
    "gcloud config set project $PROJECT"
   ]
  },
  {
   "cell_type": "markdown",
   "metadata": {},
   "source": [
    "## Create BigQuery output dataset\n",
    "\n",
    "If necessary, create a BigQuery dataset to store the trained model and artifacts of training.\n",
    "(you can also do this from the GCP web console)"
   ]
  },
  {
   "cell_type": "code",
   "execution_count": 4,
   "metadata": {},
   "outputs": [],
   "source": [
    "%%bash\n",
    "#bq mk demos"
   ]
  },
  {
   "cell_type": "code",
   "execution_count": 9,
   "metadata": {},
   "outputs": [],
   "source": [
    "from google.cloud import bigquery\n",
    "bq = bigquery.Client(project=PROJECT)"
   ]
  },
  {
   "cell_type": "markdown",
   "metadata": {},
   "source": [
    "## Create BigQuery training dataset\n",
    "\n",
    "Please see [this notebook](https://github.com/GoogleCloudPlatform/training-data-analyst/blob/master/courses/machine_learning/datasets/create_datasets.ipynb) for more context on this problem and how the features were chosen."
   ]
  },
  {
   "cell_type": "code",
   "execution_count": 5,
   "metadata": {},
   "outputs": [],
   "source": [
    "import seaborn as sns\n",
    "import pandas as pd\n",
    "import numpy as np\n",
    "import shutil"
   ]
  },
  {
   "cell_type": "code",
   "execution_count": 36,
   "metadata": {},
   "outputs": [],
   "source": [
    "def create_input_dataset(split, sample=1000):\n",
    "  \"\"\"\n",
    "  split is TRAIN or EVAL\n",
    "  sample=1000 pulls 1/1000 of full dataset\n",
    "  \"\"\"\n",
    "  \n",
    "  query=\"\"\"\n",
    "  WITH params AS (\n",
    "    SELECT\n",
    "    1 AS TRAIN,\n",
    "    2 AS EVAL\n",
    "    ),\n",
    "\n",
    "  daynames AS\n",
    "    (SELECT ['Sun', 'Mon', 'Tues', 'Wed', 'Thurs', 'Fri', 'Sat'] AS daysofweek),\n",
    "\n",
    "  taxitrips AS (\n",
    "  SELECT\n",
    "    (tolls_amount + fare_amount) AS total_fare,\n",
    "    daysofweek[ORDINAL(EXTRACT(DAYOFWEEK FROM pickup_datetime))] AS dayofweek,\n",
    "    EXTRACT(HOUR FROM pickup_datetime) AS hourofday,\n",
    "    pickup_longitude AS pickuplon,\n",
    "    pickup_latitude AS pickuplat,\n",
    "    dropoff_longitude AS dropofflon,\n",
    "    dropoff_latitude AS dropofflat,\n",
    "    passenger_count AS passengers\n",
    "  FROM\n",
    "    `nyc-tlc.yellow.trips`, daynames, params\n",
    "  WHERE\n",
    "    trip_distance > 0 AND fare_amount > 0 AND fare_amount < 100\n",
    "    AND ABS(MOD(FARM_FINGERPRINT(CAST(pickup_datetime AS STRING)), {0})) = params.{1}\n",
    "  )\n",
    "\n",
    "  SELECT *\n",
    "  FROM taxitrips\n",
    "  \"\"\".format(sample, split)\n",
    "  \n",
    "  return query"
   ]
  },
  {
   "cell_type": "markdown",
   "metadata": {},
   "source": [
    "Note a few things about the query:\n",
    "* The main part of the query is at the bottom: (SELECT * from taxitrips).\n",
    "* taxitrips does the bulk of the extraction for the NYC dataset, with the SELECT containing my training features and label.\n",
    "* The WHERE removes data that I don't want to train on.\n",
    "* The WHERE also includes a sampling clause to pick up only 1/1000th of the data\n",
    "* I define a variable called TRAIN so that I can quickly build an independent EVAL set."
   ]
  },
  {
   "cell_type": "code",
   "execution_count": 15,
   "metadata": {},
   "outputs": [
    {
     "name": "stdout",
     "output_type": "stream",
     "text": [
      "\n",
      "  WITH params AS (\n",
      "    SELECT\n",
      "    1 AS TRAIN,\n",
      "    2 AS EVAL\n",
      "    ),\n",
      "\n",
      "  daynames AS\n",
      "    (SELECT ['Sun', 'Mon', 'Tues', 'Wed', 'Thurs', 'Fri', 'Sat'] AS daysofweek),\n",
      "\n",
      "  taxitrips AS (\n",
      "  SELECT\n",
      "    (tolls_amount + fare_amount) AS total_fare,\n",
      "    daysofweek[ORDINAL(EXTRACT(DAYOFWEEK FROM pickup_datetime))] AS dayofweek,\n",
      "    EXTRACT(HOUR FROM pickup_datetime) AS hourofday,\n",
      "    pickup_longitude AS pickuplon,\n",
      "    pickup_latitude AS pickuplat,\n",
      "    dropoff_longitude AS dropofflon,\n",
      "    dropoff_latitude AS dropofflat,\n",
      "    passenger_count AS passengers\n",
      "  FROM\n",
      "    `nyc-tlc.yellow.trips`, daynames, params\n",
      "  WHERE\n",
      "    trip_distance > 0 AND fare_amount > 0\n",
      "    AND ABS(MOD(FARM_FINGERPRINT(CAST(pickup_datetime AS STRING)), 1000)) = params.TRAIN\n",
      "  )\n",
      "\n",
      "  SELECT *\n",
      "  FROM taxitrips\n",
      "  \n"
     ]
    }
   ],
   "source": [
    "query = create_input_dataset('TRAIN')\n",
    "print(query)\n",
    "trips = bq.query(query + \" LIMIT 1000\", project=PROJECT).to_dataframe()"
   ]
  },
  {
   "cell_type": "code",
   "execution_count": 16,
   "metadata": {},
   "outputs": [
    {
     "data": {
      "text/html": [
       "<div>\n",
       "<style scoped>\n",
       "    .dataframe tbody tr th:only-of-type {\n",
       "        vertical-align: middle;\n",
       "    }\n",
       "\n",
       "    .dataframe tbody tr th {\n",
       "        vertical-align: top;\n",
       "    }\n",
       "\n",
       "    .dataframe thead th {\n",
       "        text-align: right;\n",
       "    }\n",
       "</style>\n",
       "<table border=\"1\" class=\"dataframe\">\n",
       "  <thead>\n",
       "    <tr style=\"text-align: right;\">\n",
       "      <th></th>\n",
       "      <th>total_fare</th>\n",
       "      <th>dayofweek</th>\n",
       "      <th>hourofday</th>\n",
       "      <th>pickuplon</th>\n",
       "      <th>pickuplat</th>\n",
       "      <th>dropofflon</th>\n",
       "      <th>dropofflat</th>\n",
       "      <th>passengers</th>\n",
       "    </tr>\n",
       "  </thead>\n",
       "  <tbody>\n",
       "    <tr>\n",
       "      <th>0</th>\n",
       "      <td>2.5</td>\n",
       "      <td>Sun</td>\n",
       "      <td>12</td>\n",
       "      <td>-73.982177</td>\n",
       "      <td>40.770006</td>\n",
       "      <td>-73.981291</td>\n",
       "      <td>40.769298</td>\n",
       "      <td>1</td>\n",
       "    </tr>\n",
       "    <tr>\n",
       "      <th>1</th>\n",
       "      <td>2.5</td>\n",
       "      <td>Mon</td>\n",
       "      <td>15</td>\n",
       "      <td>-73.986812</td>\n",
       "      <td>40.759453</td>\n",
       "      <td>-73.986258</td>\n",
       "      <td>40.759607</td>\n",
       "      <td>2</td>\n",
       "    </tr>\n",
       "    <tr>\n",
       "      <th>2</th>\n",
       "      <td>3.0</td>\n",
       "      <td>Tues</td>\n",
       "      <td>6</td>\n",
       "      <td>-73.975887</td>\n",
       "      <td>40.757060</td>\n",
       "      <td>-73.973400</td>\n",
       "      <td>40.760550</td>\n",
       "      <td>5</td>\n",
       "    </tr>\n",
       "    <tr>\n",
       "      <th>3</th>\n",
       "      <td>3.5</td>\n",
       "      <td>Thurs</td>\n",
       "      <td>21</td>\n",
       "      <td>-73.954017</td>\n",
       "      <td>40.770487</td>\n",
       "      <td>-73.949420</td>\n",
       "      <td>40.772747</td>\n",
       "      <td>1</td>\n",
       "    </tr>\n",
       "    <tr>\n",
       "      <th>4</th>\n",
       "      <td>3.5</td>\n",
       "      <td>Sun</td>\n",
       "      <td>1</td>\n",
       "      <td>-73.989583</td>\n",
       "      <td>40.691210</td>\n",
       "      <td>-73.987220</td>\n",
       "      <td>40.692317</td>\n",
       "      <td>1</td>\n",
       "    </tr>\n",
       "  </tbody>\n",
       "</table>\n",
       "</div>"
      ],
      "text/plain": [
       "   total_fare dayofweek  hourofday  pickuplon  pickuplat  dropofflon  \\\n",
       "0         2.5       Sun         12 -73.982177  40.770006  -73.981291   \n",
       "1         2.5       Mon         15 -73.986812  40.759453  -73.986258   \n",
       "2         3.0      Tues          6 -73.975887  40.757060  -73.973400   \n",
       "3         3.5     Thurs         21 -73.954017  40.770487  -73.949420   \n",
       "4         3.5       Sun          1 -73.989583  40.691210  -73.987220   \n",
       "\n",
       "   dropofflat  passengers  \n",
       "0   40.769298           1  \n",
       "1   40.759607           2  \n",
       "2   40.760550           5  \n",
       "3   40.772747           1  \n",
       "4   40.692317           1  "
      ]
     },
     "execution_count": 16,
     "metadata": {},
     "output_type": "execute_result"
    }
   ],
   "source": [
    "trips.head()"
   ]
  },
  {
   "cell_type": "code",
   "execution_count": 17,
   "metadata": {},
   "outputs": [
    {
     "data": {
      "text/html": [
       "<div>\n",
       "<style scoped>\n",
       "    .dataframe tbody tr th:only-of-type {\n",
       "        vertical-align: middle;\n",
       "    }\n",
       "\n",
       "    .dataframe tbody tr th {\n",
       "        vertical-align: top;\n",
       "    }\n",
       "\n",
       "    .dataframe thead th {\n",
       "        text-align: right;\n",
       "    }\n",
       "</style>\n",
       "<table border=\"1\" class=\"dataframe\">\n",
       "  <thead>\n",
       "    <tr style=\"text-align: right;\">\n",
       "      <th></th>\n",
       "      <th>total_fare</th>\n",
       "      <th>hourofday</th>\n",
       "      <th>pickuplon</th>\n",
       "      <th>pickuplat</th>\n",
       "      <th>dropofflon</th>\n",
       "      <th>dropofflat</th>\n",
       "      <th>passengers</th>\n",
       "    </tr>\n",
       "  </thead>\n",
       "  <tbody>\n",
       "    <tr>\n",
       "      <th>count</th>\n",
       "      <td>1000.000000</td>\n",
       "      <td>1000.000000</td>\n",
       "      <td>1000.000000</td>\n",
       "      <td>1000.000000</td>\n",
       "      <td>1000.000000</td>\n",
       "      <td>1000.000000</td>\n",
       "      <td>1000.00000</td>\n",
       "    </tr>\n",
       "    <tr>\n",
       "      <th>mean</th>\n",
       "      <td>11.193580</td>\n",
       "      <td>13.615000</td>\n",
       "      <td>-72.422339</td>\n",
       "      <td>39.936178</td>\n",
       "      <td>-72.716949</td>\n",
       "      <td>40.059515</td>\n",
       "      <td>1.79800</td>\n",
       "    </tr>\n",
       "    <tr>\n",
       "      <th>std</th>\n",
       "      <td>9.624011</td>\n",
       "      <td>6.523598</td>\n",
       "      <td>10.612316</td>\n",
       "      <td>5.708082</td>\n",
       "      <td>9.567607</td>\n",
       "      <td>5.270821</td>\n",
       "      <td>1.38965</td>\n",
       "    </tr>\n",
       "    <tr>\n",
       "      <th>min</th>\n",
       "      <td>2.500000</td>\n",
       "      <td>0.000000</td>\n",
       "      <td>-74.044723</td>\n",
       "      <td>0.000000</td>\n",
       "      <td>-74.177602</td>\n",
       "      <td>0.000000</td>\n",
       "      <td>0.00000</td>\n",
       "    </tr>\n",
       "    <tr>\n",
       "      <th>25%</th>\n",
       "      <td>6.000000</td>\n",
       "      <td>9.000000</td>\n",
       "      <td>-73.991939</td>\n",
       "      <td>40.735623</td>\n",
       "      <td>-73.991719</td>\n",
       "      <td>40.734412</td>\n",
       "      <td>1.00000</td>\n",
       "    </tr>\n",
       "    <tr>\n",
       "      <th>50%</th>\n",
       "      <td>8.000000</td>\n",
       "      <td>14.000000</td>\n",
       "      <td>-73.980697</td>\n",
       "      <td>40.752287</td>\n",
       "      <td>-73.980773</td>\n",
       "      <td>40.753813</td>\n",
       "      <td>1.00000</td>\n",
       "    </tr>\n",
       "    <tr>\n",
       "      <th>75%</th>\n",
       "      <td>12.500000</td>\n",
       "      <td>19.000000</td>\n",
       "      <td>-73.967146</td>\n",
       "      <td>40.767698</td>\n",
       "      <td>-73.962595</td>\n",
       "      <td>40.768420</td>\n",
       "      <td>2.00000</td>\n",
       "    </tr>\n",
       "    <tr>\n",
       "      <th>max</th>\n",
       "      <td>69.650000</td>\n",
       "      <td>23.000000</td>\n",
       "      <td>0.000000</td>\n",
       "      <td>40.835693</td>\n",
       "      <td>0.000000</td>\n",
       "      <td>40.908057</td>\n",
       "      <td>6.00000</td>\n",
       "    </tr>\n",
       "  </tbody>\n",
       "</table>\n",
       "</div>"
      ],
      "text/plain": [
       "        total_fare    hourofday    pickuplon    pickuplat   dropofflon  \\\n",
       "count  1000.000000  1000.000000  1000.000000  1000.000000  1000.000000   \n",
       "mean     11.193580    13.615000   -72.422339    39.936178   -72.716949   \n",
       "std       9.624011     6.523598    10.612316     5.708082     9.567607   \n",
       "min       2.500000     0.000000   -74.044723     0.000000   -74.177602   \n",
       "25%       6.000000     9.000000   -73.991939    40.735623   -73.991719   \n",
       "50%       8.000000    14.000000   -73.980697    40.752287   -73.980773   \n",
       "75%      12.500000    19.000000   -73.967146    40.767698   -73.962595   \n",
       "max      69.650000    23.000000     0.000000    40.835693     0.000000   \n",
       "\n",
       "        dropofflat  passengers  \n",
       "count  1000.000000  1000.00000  \n",
       "mean     40.059515     1.79800  \n",
       "std       5.270821     1.38965  \n",
       "min       0.000000     0.00000  \n",
       "25%      40.734412     1.00000  \n",
       "50%      40.753813     1.00000  \n",
       "75%      40.768420     2.00000  \n",
       "max      40.908057     6.00000  "
      ]
     },
     "execution_count": 17,
     "metadata": {},
     "output_type": "execute_result"
    }
   ],
   "source": [
    "trips.describe()"
   ]
  },
  {
   "cell_type": "markdown",
   "metadata": {},
   "source": [
    "## Create ML model training query\n",
    "\n",
    "This is the query to train the model"
   ]
  },
  {
   "cell_type": "code",
   "execution_count": 40,
   "metadata": {},
   "outputs": [],
   "source": [
    "def create_train_query(dataset_query, model_name):\n",
    "  query=\"\"\"\n",
    "CREATE or REPLACE MODEL {0}\n",
    "OPTIONS\n",
    "  (model_type='linear_reg', labels=['total_fare'], min_rel_progress=0.005, l2_reg=0.1) AS\n",
    "  \n",
    "  {1}\n",
    "  \n",
    "  \"\"\".format(model_name, dataset_query)\n",
    "  return query"
   ]
  },
  {
   "cell_type": "code",
   "execution_count": 19,
   "metadata": {},
   "outputs": [
    {
     "name": "stdout",
     "output_type": "stream",
     "text": [
      "\n",
      "CREATE or REPLACE MODEL demos.taxifare_model\n",
      "OPTIONS\n",
      "  (model_type='linear_reg', labels=['total_fare'], min_rel_progress=0.005, ls_init_learn_rate=0.1) AS\n",
      "  \n",
      "  \n",
      "  WITH params AS (\n",
      "    SELECT\n",
      "    1 AS TRAIN,\n",
      "    2 AS EVAL\n",
      "    ),\n",
      "\n",
      "  daynames AS\n",
      "    (SELECT ['Sun', 'Mon', 'Tues', 'Wed', 'Thurs', 'Fri', 'Sat'] AS daysofweek),\n",
      "\n",
      "  taxitrips AS (\n",
      "  SELECT\n",
      "    (tolls_amount + fare_amount) AS total_fare,\n",
      "    daysofweek[ORDINAL(EXTRACT(DAYOFWEEK FROM pickup_datetime))] AS dayofweek,\n",
      "    EXTRACT(HOUR FROM pickup_datetime) AS hourofday,\n",
      "    pickup_longitude AS pickuplon,\n",
      "    pickup_latitude AS pickuplat,\n",
      "    dropoff_longitude AS dropofflon,\n",
      "    dropoff_latitude AS dropofflat,\n",
      "    passenger_count AS passengers\n",
      "  FROM\n",
      "    `nyc-tlc.yellow.trips`, daynames, params\n",
      "  WHERE\n",
      "    trip_distance > 0 AND fare_amount > 0\n",
      "    AND ABS(MOD(FARM_FINGERPRINT(CAST(pickup_datetime AS STRING)), 1000)) = params.TRAIN\n",
      "  )\n",
      "\n",
      "  SELECT *\n",
      "  FROM taxitrips\n",
      "  \n",
      "  \n",
      "  \n"
     ]
    }
   ],
   "source": [
    "train_query = create_train_query( create_input_dataset('TRAIN'), 'demos.taxifare_model' )\n",
    "print(train_query)"
   ]
  },
  {
   "cell_type": "markdown",
   "metadata": {},
   "source": [
    "Note a few things about the above query:\n",
    "* CREATE model is a safe way to ensure that you don't overwrite existing models. CREATE or REPLACE will … replace existing models.\n",
    "* I specify my model type. Use linear_reg for regression problems and logistic_reg for classification problems.\n",
    "* I specify that the total_fare column is the label.\n",
    "* I ask that model training stop when the improvement is < 0.5%\n",
    "* I specify the initial learning rate at 0.1 (this is optional, but shows you how to specify any optional parameters)."
   ]
  },
  {
   "cell_type": "markdown",
   "metadata": {},
   "source": [
    "## Train the ML model\n",
    "\n",
    "This will take <b>5-10 min</b>.  Wait for a message of the form \"Job xyz completed\"."
   ]
  },
  {
   "cell_type": "code",
   "execution_count": 20,
   "metadata": {},
   "outputs": [
    {
     "data": {
      "text/plain": [
       "<google.cloud.bigquery.table._EmptyRowIterator at 0x7fa39f506630>"
      ]
     },
     "execution_count": 20,
     "metadata": {},
     "output_type": "execute_result"
    }
   ],
   "source": [
    "bq.query(train_query, project=PROJECT).result()"
   ]
  },
  {
   "cell_type": "markdown",
   "metadata": {},
   "source": [
    "Once the above job is complete, you can look at the training loss:"
   ]
  },
  {
   "cell_type": "code",
   "execution_count": 24,
   "metadata": {},
   "outputs": [
    {
     "name": "stdout",
     "output_type": "stream",
     "text": [
      "SELECT iteration, loss from ML.TRAINING_INFO(MODEL demos.taxifare_model)\n",
      "   iteration      loss\n",
      "0          0  9.463086\n"
     ]
    }
   ],
   "source": [
    "def show_training_loss(model_name):\n",
    "  query = \"SELECT iteration, loss from ML.TRAINING_INFO(MODEL {})\".format(model_name)\n",
    "  print(query)\n",
    "  loss_df = bq.query(query, project=PROJECT).to_dataframe()\n",
    "  loss_df['loss'] = np.sqrt(loss_df['loss'])  # mean square error to RMSE\n",
    "\n",
    "  if len(loss_df) > 1:\n",
    "    # Sometimes, BigQuery can compute a closed form solution.\n",
    "    # See: https://medium.com/google-cloud/bigquery-ml-gets-faster-by-computing-a-closed-form-solution-sometimes-1baa5a838eb6\n",
    "    loss_df.plot(x='iteration', y='loss');\n",
    "  else:\n",
    "    print(loss_df)\n",
    "show_training_loss('demos.taxifare_model');"
   ]
  },
  {
   "cell_type": "markdown",
   "metadata": {},
   "source": [
    "## Evaluate the model on an independent dataset\n",
    "\n",
    "Let's look at overall RMSE (notice the use of ML.EVALUATE)"
   ]
  },
  {
   "cell_type": "code",
   "execution_count": 25,
   "metadata": {},
   "outputs": [
    {
     "name": "stdout",
     "output_type": "stream",
     "text": [
      "\n",
      "SELECT\n",
      "  *,\n",
      "  SQRT( mean_squared_error ) AS rmse\n",
      "FROM\n",
      "  ML.EVALUATE(MODEL demos.taxifare_model,\n",
      "  (\n",
      "  \n",
      "  WITH params AS (\n",
      "    SELECT\n",
      "    1 AS TRAIN,\n",
      "    2 AS EVAL\n",
      "    ),\n",
      "\n",
      "  daynames AS\n",
      "    (SELECT ['Sun', 'Mon', 'Tues', 'Wed', 'Thurs', 'Fri', 'Sat'] AS daysofweek),\n",
      "\n",
      "  taxitrips AS (\n",
      "  SELECT\n",
      "    (tolls_amount + fare_amount) AS total_fare,\n",
      "    daysofweek[ORDINAL(EXTRACT(DAYOFWEEK FROM pickup_datetime))] AS dayofweek,\n",
      "    EXTRACT(HOUR FROM pickup_datetime) AS hourofday,\n",
      "    pickup_longitude AS pickuplon,\n",
      "    pickup_latitude AS pickuplat,\n",
      "    dropoff_longitude AS dropofflon,\n",
      "    dropoff_latitude AS dropofflat,\n",
      "    passenger_count AS passengers\n",
      "  FROM\n",
      "    `nyc-tlc.yellow.trips`, daynames, params\n",
      "  WHERE\n",
      "    trip_distance > 0 AND fare_amount > 0\n",
      "    AND ABS(MOD(FARM_FINGERPRINT(CAST(pickup_datetime AS STRING)), 1000)) = params.EVAL\n",
      "  )\n",
      "\n",
      "  SELECT *\n",
      "  FROM taxitrips\n",
      "  \n",
      "  ))  \n",
      "  \n"
     ]
    }
   ],
   "source": [
    "def create_eval_query(dataset_query, model_name):\n",
    "  query=\"\"\"\n",
    "SELECT\n",
    "  *,\n",
    "  SQRT( mean_squared_error ) AS rmse\n",
    "FROM\n",
    "  ML.EVALUATE(MODEL {0},\n",
    "  (\n",
    "  {1}\n",
    "  ))  \n",
    "  \"\"\".format(model_name, dataset_query)\n",
    "  return query\n",
    "eval_query = create_eval_query( create_input_dataset('EVAL'), 'demos.taxifare_model' )\n",
    "print(eval_query)"
   ]
  },
  {
   "cell_type": "code",
   "execution_count": 26,
   "metadata": {},
   "outputs": [
    {
     "data": {
      "text/html": [
       "<div>\n",
       "<style scoped>\n",
       "    .dataframe tbody tr th:only-of-type {\n",
       "        vertical-align: middle;\n",
       "    }\n",
       "\n",
       "    .dataframe tbody tr th {\n",
       "        vertical-align: top;\n",
       "    }\n",
       "\n",
       "    .dataframe thead th {\n",
       "        text-align: right;\n",
       "    }\n",
       "</style>\n",
       "<table border=\"1\" class=\"dataframe\">\n",
       "  <thead>\n",
       "    <tr style=\"text-align: right;\">\n",
       "      <th></th>\n",
       "      <th>mean_absolute_error</th>\n",
       "      <th>mean_squared_error</th>\n",
       "      <th>mean_squared_log_error</th>\n",
       "      <th>median_absolute_error</th>\n",
       "      <th>r2_score</th>\n",
       "      <th>explained_variance</th>\n",
       "      <th>rmse</th>\n",
       "    </tr>\n",
       "  </thead>\n",
       "  <tbody>\n",
       "    <tr>\n",
       "      <th>0</th>\n",
       "      <td>5.927267</td>\n",
       "      <td>89.806649</td>\n",
       "      <td>0.323691</td>\n",
       "      <td>4.501331</td>\n",
       "      <td>0.000915</td>\n",
       "      <td>0.000917</td>\n",
       "      <td>9.476637</td>\n",
       "    </tr>\n",
       "  </tbody>\n",
       "</table>\n",
       "</div>"
      ],
      "text/plain": [
       "   mean_absolute_error  mean_squared_error  mean_squared_log_error  \\\n",
       "0             5.927267           89.806649                0.323691   \n",
       "\n",
       "   median_absolute_error  r2_score  explained_variance      rmse  \n",
       "0               4.501331  0.000915            0.000917  9.476637  "
      ]
     },
     "execution_count": 26,
     "metadata": {},
     "output_type": "execute_result"
    }
   ],
   "source": [
    "eval_df = bq.query(eval_query, project=PROJECT).to_dataframe()\n",
    "eval_df"
   ]
  },
  {
   "cell_type": "markdown",
   "metadata": {},
   "source": [
    "We can write a more sophisticated evaluation that computes the mean absolute percent error (MAPE) and group it by the taxifare to see how the errors vary with amount (notice the use of ML.PREDICT):"
   ]
  },
  {
   "cell_type": "code",
   "execution_count": 37,
   "metadata": {},
   "outputs": [
    {
     "name": "stdout",
     "output_type": "stream",
     "text": [
      "\n",
      "WITH predictions AS (\n",
      "  SELECT\n",
      "    total_fare,\n",
      "    ABS(total_fare - predicted_total_fare)/total_fare AS error,\n",
      "    ROUND(total_fare) AS dollars\n",
      "  FROM\n",
      "  ML.PREDICT(MODEL demos.taxifare_model,\n",
      "  (\n",
      "  \n",
      "  WITH params AS (\n",
      "    SELECT\n",
      "    1 AS TRAIN,\n",
      "    2 AS EVAL\n",
      "    ),\n",
      "\n",
      "  daynames AS\n",
      "    (SELECT ['Sun', 'Mon', 'Tues', 'Wed', 'Thurs', 'Fri', 'Sat'] AS daysofweek),\n",
      "\n",
      "  taxitrips AS (\n",
      "  SELECT\n",
      "    (tolls_amount + fare_amount) AS total_fare,\n",
      "    daysofweek[ORDINAL(EXTRACT(DAYOFWEEK FROM pickup_datetime))] AS dayofweek,\n",
      "    EXTRACT(HOUR FROM pickup_datetime) AS hourofday,\n",
      "    pickup_longitude AS pickuplon,\n",
      "    pickup_latitude AS pickuplat,\n",
      "    dropoff_longitude AS dropofflon,\n",
      "    dropoff_latitude AS dropofflat,\n",
      "    passenger_count AS passengers\n",
      "  FROM\n",
      "    `nyc-tlc.yellow.trips`, daynames, params\n",
      "  WHERE\n",
      "    trip_distance > 0 AND fare_amount > 0 AND fare_amount < 100\n",
      "    AND ABS(MOD(FARM_FINGERPRINT(CAST(pickup_datetime AS STRING)), 1000)) = params.EVAL\n",
      "  )\n",
      "\n",
      "  SELECT *\n",
      "  FROM taxitrips\n",
      "  \n",
      "  )))\n",
      "\n",
      "SELECT\n",
      "  dollars,\n",
      "  -- mean absolute percent error\n",
      "  AVG(100 * error) AS MAPE\n",
      "FROM predictions\n",
      "GROUP BY dollars\n",
      "ORDER BY\n",
      "  dollars\n",
      "  \n"
     ]
    }
   ],
   "source": [
    "def create_faceted_eval_query(dataset_query, model_name):\n",
    "  query=\"\"\"\n",
    "WITH predictions AS (\n",
    "  SELECT\n",
    "    total_fare,\n",
    "    ABS(total_fare - predicted_total_fare)/total_fare AS error,\n",
    "    ROUND(total_fare) AS dollars\n",
    "  FROM\n",
    "  ML.PREDICT(MODEL {0},\n",
    "  (\n",
    "  {1}\n",
    "  )))\n",
    "\n",
    "SELECT\n",
    "  dollars,\n",
    "  -- mean absolute percent error\n",
    "  AVG(100 * error) AS MAPE\n",
    "FROM predictions\n",
    "GROUP BY dollars\n",
    "ORDER BY\n",
    "  dollars\n",
    "  \"\"\".format(model_name, dataset_query)\n",
    "  return query\n",
    "eval_query = create_faceted_eval_query( create_input_dataset('EVAL'), 'demos.taxifare_model')\n",
    "print(eval_query)"
   ]
  },
  {
   "cell_type": "code",
   "execution_count": 28,
   "metadata": {},
   "outputs": [
    {
     "data": {
      "text/plain": [
       "(0, 100)"
      ]
     },
     "execution_count": 28,
     "metadata": {},
     "output_type": "execute_result"
    },
    {
     "data": {
      "image/png": "[encoded data removed]",
      "text/plain": [
       "<Figure size 432x288 with 1 Axes>"
      ]
     },
     "metadata": {},
     "output_type": "display_data"
    }
   ],
   "source": [
    "eval_df = bq.query(eval_query, project=PROJECT).to_dataframe()\n",
    "ax = eval_df.plot(x='dollars', y='MAPE');\n",
    "ax.set_xlim(5, 25)\n",
    "ax.set_ylim(0,100)"
   ]
  },
  {
   "cell_type": "markdown",
   "metadata": {},
   "source": [
    "Note that the error is quadratic -- it decreases and then increases with fare amount"
   ]
  },
  {
   "cell_type": "markdown",
   "metadata": {},
   "source": [
    "## Feature engineering\n",
    "\n",
    "Let's create some features that will improve our prediction result:\n",
    "<ol>\n",
    "<li> Compute distance between pickup and dropoff points as ST_Distance\n",
    "<li> Do a feature cross of day-hour combination to learn traffic\n",
    "<li> Do a feature cross of pickup-droff points to learn tolls\n",
    "</ol>"
   ]
  },
  {
   "cell_type": "code",
   "execution_count": 41,
   "metadata": {},
   "outputs": [],
   "source": [
    "def create_input_dataset_fc(split, sample=1000):\n",
    "  \"\"\"\n",
    "  split is TRAIN or EVAL\n",
    "  sample=1000 pulls 1/1000 of full dataset\n",
    "  \"\"\"\n",
    "  \n",
    "  query=\"\"\"\n",
    "WITH params AS (\n",
    "  SELECT\n",
    "  0.1 AS RES,\n",
    "  1 AS TRAIN,\n",
    "  2 AS EVAL\n",
    "  ),\n",
    "\n",
    "daynames AS\n",
    "  (SELECT ['Sun', 'Mon', 'Tues', 'Wed', 'Thurs', 'Fri', 'Sat'] AS daysofweek),\n",
    "  \n",
    "taxitrips AS (\n",
    "SELECT\n",
    "  (tolls_amount + fare_amount) AS total_fare,\n",
    "  daysofweek[ORDINAL(EXTRACT(DAYOFWEEK FROM pickup_datetime))] AS dayofweek,\n",
    "  EXTRACT(HOUR FROM pickup_datetime) AS hourofday,\n",
    "  ST_GeogPoint(pickup_longitude, pickup_latitude) AS pickup,\n",
    "  ST_GeogPoint(dropoff_longitude, dropoff_latitude) AS dropoff,\n",
    "  passenger_count AS passengers\n",
    "FROM\n",
    "  `nyc-tlc.yellow.trips`, daynames, params\n",
    "WHERE\n",
    "  trip_distance > 0 AND fare_amount > 0 AND fare_amount < 100\n",
    "  and fare_amount >= 2.5 and pickup_longitude > -78 and pickup_longitude < -70 \n",
    "      and dropoff_longitude > -78 and dropoff_longitude < -70 and pickup_latitude > 37 \n",
    "      and pickup_latitude < 45 and dropoff_latitude > 37 and dropoff_latitude < 45 \n",
    "      and passenger_count > 0\n",
    "  AND ABS(MOD(FARM_FINGERPRINT(CAST(pickup_datetime AS STRING)), {0})) = params.{1}\n",
    "),\n",
    "\n",
    "feateng AS (\n",
    "  SELECT \n",
    "    total_fare,\n",
    "    ST_Distance(pickup, dropoff) AS euclidean,\n",
    "    CONCAT(dayofweek, CAST(hourofday AS STRING)) AS dayhr_fc,\n",
    "    CONCAT(ST_AsText(ST_SnapToGrid(pickup, params.RES)),\n",
    "           ST_AsText(ST_SnapToGrid(dropoff, params.RES))) AS loc_fc\n",
    "  FROM\n",
    "    taxitrips, params\n",
    ")\n",
    "  \n",
    "  SELECT *\n",
    "  FROM feateng\n",
    "  \"\"\".format(sample, split)\n",
    "  \n",
    "  return query"
   ]
  },
  {
   "cell_type": "markdown",
   "metadata": {},
   "source": [
    "Train:  this will take about <b> 5-10 minutes </b>"
   ]
  },
  {
   "cell_type": "code",
   "execution_count": 42,
   "metadata": {},
   "outputs": [
    {
     "name": "stdout",
     "output_type": "stream",
     "text": [
      "\n",
      "CREATE or REPLACE MODEL demos.taxifare_model_fc\n",
      "OPTIONS\n",
      "  (model_type='linear_reg', labels=['total_fare'], min_rel_progress=0.005, l2_reg=0.1) AS\n",
      "  \n",
      "  \n",
      "WITH params AS (\n",
      "  SELECT\n",
      "  0.1 AS RES,\n",
      "  1 AS TRAIN,\n",
      "  2 AS EVAL\n",
      "  ),\n",
      "\n",
      "daynames AS\n",
      "  (SELECT ['Sun', 'Mon', 'Tues', 'Wed', 'Thurs', 'Fri', 'Sat'] AS daysofweek),\n",
      "  \n",
      "taxitrips AS (\n",
      "SELECT\n",
      "  (tolls_amount + fare_amount) AS total_fare,\n",
      "  daysofweek[ORDINAL(EXTRACT(DAYOFWEEK FROM pickup_datetime))] AS dayofweek,\n",
      "  EXTRACT(HOUR FROM pickup_datetime) AS hourofday,\n",
      "  ST_GeogPoint(pickup_longitude, pickup_latitude) AS pickup,\n",
      "  ST_GeogPoint(dropoff_longitude, dropoff_latitude) AS dropoff,\n",
      "  passenger_count AS passengers\n",
      "FROM\n",
      "  `nyc-tlc.yellow.trips`, daynames, params\n",
      "WHERE\n",
      "  trip_distance > 0 AND fare_amount > 0 AND fare_amount < 100\n",
      "  and fare_amount >= 2.5 and pickup_longitude > -78 and pickup_longitude < -70 \n",
      "      and dropoff_longitude > -78 and dropoff_longitude < -70 and pickup_latitude > 37 \n",
      "      and pickup_latitude < 45 and dropoff_latitude > 37 and dropoff_latitude < 45 \n",
      "      and passenger_count > 0\n",
      "  AND ABS(MOD(FARM_FINGERPRINT(CAST(pickup_datetime AS STRING)), 1000)) = params.TRAIN\n",
      "),\n",
      "\n",
      "feateng AS (\n",
      "  SELECT \n",
      "    total_fare,\n",
      "    ST_Distance(pickup, dropoff) AS euclidean,\n",
      "    CONCAT(dayofweek, CAST(hourofday AS STRING)) AS dayhr_fc,\n",
      "    CONCAT(ST_AsText(ST_SnapToGrid(pickup, params.RES)),\n",
      "           ST_AsText(ST_SnapToGrid(dropoff, params.RES))) AS loc_fc\n",
      "  FROM\n",
      "    taxitrips, params\n",
      ")\n",
      "  \n",
      "  SELECT *\n",
      "  FROM feateng\n",
      "  \n",
      "  \n",
      "  \n"
     ]
    },
    {
     "data": {
      "text/plain": [
       "<google.cloud.bigquery.table._EmptyRowIterator at 0x7fa39d3244e0>"
      ]
     },
     "execution_count": 42,
     "metadata": {},
     "output_type": "execute_result"
    }
   ],
   "source": [
    "train_query = create_train_query( create_input_dataset_fc('TRAIN'), 'demos.taxifare_model_fc' )\n",
    "print(train_query)\n",
    "bq.query(train_query, project=PROJECT).result()"
   ]
  },
  {
   "cell_type": "markdown",
   "metadata": {},
   "source": [
    "Evaluate the model once it is trained."
   ]
  },
  {
   "cell_type": "code",
   "execution_count": 43,
   "metadata": {},
   "outputs": [
    {
     "name": "stdout",
     "output_type": "stream",
     "text": [
      "SELECT iteration, loss from ML.TRAINING_INFO(MODEL demos.taxifare_model_fc)\n",
      "   iteration      loss\n",
      "0          0  3.895943\n"
     ]
    }
   ],
   "source": [
    "show_training_loss('demos.taxifare_model_fc')"
   ]
  },
  {
   "cell_type": "code",
   "execution_count": 44,
   "metadata": {},
   "outputs": [
    {
     "data": {
      "text/html": [
       "<div>\n",
       "<style scoped>\n",
       "    .dataframe tbody tr th:only-of-type {\n",
       "        vertical-align: middle;\n",
       "    }\n",
       "\n",
       "    .dataframe tbody tr th {\n",
       "        vertical-align: top;\n",
       "    }\n",
       "\n",
       "    .dataframe thead th {\n",
       "        text-align: right;\n",
       "    }\n",
       "</style>\n",
       "<table border=\"1\" class=\"dataframe\">\n",
       "  <thead>\n",
       "    <tr style=\"text-align: right;\">\n",
       "      <th></th>\n",
       "      <th>mean_absolute_error</th>\n",
       "      <th>mean_squared_error</th>\n",
       "      <th>mean_squared_log_error</th>\n",
       "      <th>median_absolute_error</th>\n",
       "      <th>r2_score</th>\n",
       "      <th>explained_variance</th>\n",
       "      <th>rmse</th>\n",
       "    </tr>\n",
       "  </thead>\n",
       "  <tbody>\n",
       "    <tr>\n",
       "      <th>0</th>\n",
       "      <td>2.229484</td>\n",
       "      <td>24.638316</td>\n",
       "      <td>0.066012</td>\n",
       "      <td>1.416893</td>\n",
       "      <td>0.714704</td>\n",
       "      <td>0.714706</td>\n",
       "      <td>4.9637</td>\n",
       "    </tr>\n",
       "  </tbody>\n",
       "</table>\n",
       "</div>"
      ],
      "text/plain": [
       "   mean_absolute_error  mean_squared_error  mean_squared_log_error  \\\n",
       "0             2.229484           24.638316                0.066012   \n",
       "\n",
       "   median_absolute_error  r2_score  explained_variance    rmse  \n",
       "0               1.416893  0.714704            0.714706  4.9637  "
      ]
     },
     "execution_count": 44,
     "metadata": {},
     "output_type": "execute_result"
    }
   ],
   "source": [
    "eval_query = create_eval_query( create_input_dataset_fc('EVAL'), 'demos.taxifare_model_fc' )\n",
    "eval_df = bq.query(eval_query, project=PROJECT).to_dataframe()\n",
    "eval_df"
   ]
  },
  {
   "cell_type": "code",
   "execution_count": 46,
   "metadata": {},
   "outputs": [
    {
     "data": {
      "text/plain": [
       "(0, 100)"
      ]
     },
     "execution_count": 46,
     "metadata": {},
     "output_type": "execute_result"
    },
    {
     "data": {
      "image/png": "[encoded data removed]",
      "text/plain": [
       "<Figure size 432x288 with 1 Axes>"
      ]
     },
     "metadata": {},
     "output_type": "display_data"
    }
   ],
   "source": [
    "eval_query = create_faceted_eval_query( create_input_dataset_fc('EVAL'), 'demos.taxifare_model_fc')\n",
    "eval_df = bq.query(eval_query, project=PROJECT).to_dataframe()\n",
    "ax = eval_df.plot(x='dollars', y='MAPE');\n",
    "ax.set_xlim(5, 25)\n",
    "ax.set_ylim(0,100)"
   ]
  },
  {
   "cell_type": "markdown",
   "metadata": {},
   "source": [
    "Notice that, with the feature crosses and spatial functions, we have gotten a lower RMSE and somewhat addressed the problem of errors increasing with fare amount."
   ]
  },
  {
   "cell_type": "markdown",
   "metadata": {},
   "source": [
    "## More data?\n",
    "\n",
    "What if we train on more data? Note the sample=100 to use 10 million rows.  This will take <b> 10-15 min </b>"
   ]
  },
  {
   "cell_type": "code",
   "execution_count": 48,
   "metadata": {},
   "outputs": [
    {
     "data": {
      "text/plain": [
       "<google.cloud.bigquery.table._EmptyRowIterator at 0x7fa39d341748>"
      ]
     },
     "execution_count": 48,
     "metadata": {},
     "output_type": "execute_result"
    }
   ],
   "source": [
    "train_query = create_train_query( create_input_dataset_fc('TRAIN', sample=100), 'demos.taxifare_model_fc10' )\n",
    "bq.query(train_query, project=PROJECT).result()"
   ]
  },
  {
   "cell_type": "code",
   "execution_count": 49,
   "metadata": {},
   "outputs": [
    {
     "name": "stdout",
     "output_type": "stream",
     "text": [
      "SELECT iteration, loss from ML.TRAINING_INFO(MODEL demos.taxifare_model_fc10)\n",
      "   iteration      loss\n",
      "0          0  3.907224\n"
     ]
    }
   ],
   "source": [
    "show_training_loss('demos.taxifare_model_fc10')"
   ]
  },
  {
   "cell_type": "code",
   "execution_count": 50,
   "metadata": {},
   "outputs": [
    {
     "data": {
      "text/html": [
       "<div>\n",
       "<style scoped>\n",
       "    .dataframe tbody tr th:only-of-type {\n",
       "        vertical-align: middle;\n",
       "    }\n",
       "\n",
       "    .dataframe tbody tr th {\n",
       "        vertical-align: top;\n",
       "    }\n",
       "\n",
       "    .dataframe thead th {\n",
       "        text-align: right;\n",
       "    }\n",
       "</style>\n",
       "<table border=\"1\" class=\"dataframe\">\n",
       "  <thead>\n",
       "    <tr style=\"text-align: right;\">\n",
       "      <th></th>\n",
       "      <th>mean_absolute_error</th>\n",
       "      <th>mean_squared_error</th>\n",
       "      <th>mean_squared_log_error</th>\n",
       "      <th>median_absolute_error</th>\n",
       "      <th>r2_score</th>\n",
       "      <th>explained_variance</th>\n",
       "      <th>rmse</th>\n",
       "    </tr>\n",
       "  </thead>\n",
       "  <tbody>\n",
       "    <tr>\n",
       "      <th>0</th>\n",
       "      <td>2.223445</td>\n",
       "      <td>23.050299</td>\n",
       "      <td>0.065663</td>\n",
       "      <td>1.415918</td>\n",
       "      <td>0.733092</td>\n",
       "      <td>0.733094</td>\n",
       "      <td>4.801073</td>\n",
       "    </tr>\n",
       "  </tbody>\n",
       "</table>\n",
       "</div>"
      ],
      "text/plain": [
       "   mean_absolute_error  mean_squared_error  mean_squared_log_error  \\\n",
       "0             2.223445           23.050299                0.065663   \n",
       "\n",
       "   median_absolute_error  r2_score  explained_variance      rmse  \n",
       "0               1.415918  0.733092            0.733094  4.801073  "
      ]
     },
     "execution_count": 50,
     "metadata": {},
     "output_type": "execute_result"
    }
   ],
   "source": [
    "eval_query = create_eval_query( create_input_dataset_fc('EVAL'), 'demos.taxifare_model_fc10' )\n",
    "eval_df = bq.query(eval_query, project=PROJECT).to_dataframe()\n",
    "eval_df"
   ]
  },
  {
   "cell_type": "markdown",
   "metadata": {},
   "source": [
    "It's better (\\$4.80~ vs~ \\$4.96, which is promising). We have to experiment with changing the resolution of the feature cross also -- because we have more data, it is possible that we could use more feature crosses"
   ]
  },
  {
   "cell_type": "code",
   "execution_count": 52,
   "metadata": {},
   "outputs": [
    {
     "data": {
      "text/plain": [
       "(0, 100)"
      ]
     },
     "execution_count": 52,
     "metadata": {},
     "output_type": "execute_result"
    },
    {
     "data": {
      "image/png": "[encoded data removed]",
      "text/plain": [
       "<Figure size 432x288 with 1 Axes>"
      ]
     },
     "metadata": {},
     "output_type": "display_data"
    }
   ],
   "source": [
    "eval_query = create_faceted_eval_query( create_input_dataset_fc('EVAL'), 'demos.taxifare_model_fc10')\n",
    "eval_df = bq.query(eval_query, project=PROJECT).to_dataframe()\n",
    "ax = eval_df.plot(x='dollars', y='MAPE');\n",
    "ax.set_xlim(5, 25)\n",
    "ax.set_ylim(0,100)"
   ]
  },
  {
   "cell_type": "markdown",
   "metadata": {},
   "source": [
    "## Geo visualization\n",
    "\n",
    "Instead of grouping by the total amount, we can group by a spatial thing. Let's look at how the taxifare error varies depending on the dropoff point, by running the following query in the BigQuery Geo Viz:\n",
    "<pre>\n",
    "WITH predictions AS (\n",
    "  SELECT\n",
    "    ABS(total_fare - predicted_total_fare)/total_fare AS error,\n",
    "    total_fare, pickup_gridpt, dropoff_gridpt\n",
    "  FROM\n",
    "  ML.PREDICT(MODEL demos.taxifare_model_fc,\n",
    "  (\n",
    "  \n",
    "WITH params AS (\n",
    "  SELECT\n",
    "  0.1 AS RES,\n",
    "  1 AS TRAIN,\n",
    "  2 AS EVAL\n",
    "  ),\n",
    "daynames AS\n",
    "  (SELECT ['Sun', 'Mon', 'Tues', 'Wed', 'Thurs', 'Fri', 'Sat'] AS daysofweek),\n",
    "  \n",
    "taxitrips AS (\n",
    "SELECT\n",
    "  (tolls_amount + fare_amount) AS total_fare,\n",
    "  daysofweek[ORDINAL(EXTRACT(DAYOFWEEK FROM pickup_datetime))] AS dayofweek,\n",
    "  EXTRACT(HOUR FROM pickup_datetime) AS hourofday,\n",
    "  ST_GeogPoint(pickup_longitude, pickup_latitude) AS pickup,\n",
    "  ST_GeogPoint(dropoff_longitude, dropoff_latitude) AS dropoff,\n",
    "  passenger_count AS passengers\n",
    "FROM\n",
    "  `nyc-tlc.yellow.trips`, daynames, params\n",
    "WHERE\n",
    "  trip_distance > 0 AND fare_amount > 0 AND fare_amount < 100\n",
    "  and fare_amount >= 2.5 and pickup_longitude > -78 and pickup_longitude < -70 \n",
    "      and dropoff_longitude > -78 and dropoff_longitude < -70 and pickup_latitude > 37 \n",
    "      and pickup_latitude < 45 and dropoff_latitude > 37 and dropoff_latitude < 45 \n",
    "      and passenger_count > 0\n",
    "  AND ABS(MOD(FARM_FINGERPRINT(CAST(pickup_datetime AS STRING)), 1000)) = params.EVAL\n",
    "),\n",
    "feateng AS (\n",
    "  SELECT \n",
    "    total_fare,\n",
    "    ST_Distance(pickup, dropoff) AS euclidean,\n",
    "    CONCAT(dayofweek, CAST(hourofday AS STRING)) AS dayhr_fc,\n",
    "    CONCAT(ST_AsText(ST_SnapToGrid(pickup, params.RES)),\n",
    "           ST_AsText(ST_SnapToGrid(dropoff, params.RES))) AS loc_fc,\n",
    "    ST_AsText(ST_SnapToGrid(pickup, params.RES)) AS pickup_gridpt,\n",
    "    ST_AsText(ST_SnapToGrid(dropoff, params.RES)) AS dropoff_gridpt\n",
    "  FROM\n",
    "    taxitrips, params\n",
    ")\n",
    "  \n",
    "  SELECT *\n",
    "  FROM feateng\n",
    "  \n",
    "  )))\n",
    "SELECT\n",
    "  dropoff_gridpt,\n",
    "  ST_GeogFromText(dropoff_gridpt) AS geom,\n",
    "  COUNT(error) AS numpts,\n",
    "  -- mean absolute percent error\n",
    "  AVG(100 * error) AS MAPE\n",
    "FROM predictions\n",
    "GROUP BY dropoff_gridpt\n",
    "HAVING numpts > 100\n",
    "</pre>\n"
   ]
  },
  {
   "cell_type": "markdown",
   "metadata": {},
   "source": [
    "Copyright 2018 Google Inc. Licensed under the Apache License, Version 2.0 (the \"License\"); you may not use this file except in compliance with the License. You may obtain a copy of the License at http://www.apache.org/licenses/LICENSE-2.0 Unless required by applicable law or agreed to in writing, software distributed under the License is distributed on an \"AS IS\" BASIS, WITHOUT WARRANTIES OR CONDITIONS OF ANY KIND, either express or implied. See the License for the specific language governing permissions and limitations under the License"
   ]
  },
  {
   "cell_type": "code",
   "execution_count": null,
   "metadata": {
    "collapsed": true,
    "jupyter": {
     "outputs_hidden": true
    }
   },
   "outputs": [],
   "source": []
  },
  {
   "cell_type": "code",
   "execution_count": null,
   "metadata": {},
   "outputs": [],
   "source": [
    "%pip install google-cloud-bigquery seaborn"
   ]
  }
 ],
 "metadata": {
  "kernelspec": {
   "display_name": "Python 3",
   "language": "python",
   "name": "python3"
  },
  "language_info": {
   "codemirror_mode": {
    "name": "ipython",
    "version": 3
   },
   "file_extension": ".py",
   "mimetype": "text/x-python",
   "name": "python",
   "nbconvert_exporter": "python",
   "pygments_lexer": "ipython3",
   "version": "3.5.3"
  }
 },
 "nbformat": 4,
 "nbformat_minor": 4
}
