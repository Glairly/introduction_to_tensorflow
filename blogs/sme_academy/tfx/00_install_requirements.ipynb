{
 "cells": [
  {
   "cell_type": "markdown",
   "metadata": {},
   "source": [
    "### Install Python libraries in the current Jupyter kernel"
   ]
  },
  {
   "cell_type": "code",
   "execution_count": null,
   "metadata": {},
   "outputs": [],
   "source": [
    "import sys\n",
    "!{sys.executable} -m pip install -U apache-beam\n",
    "!{sys.executable} -m pip install -U tensorflow\n",
    "!{sys.executable} -m pip install -U tensorflow-data-validation\n",
    "!{sys.executable} -m pip install -U tensorflow-transform\n",
    "!{sys.executable} -m pip install -U tensorflow-model-analysis"
   ]
  },
  {
   "cell_type": "markdown",
   "metadata": {},
   "source": [
    "### Enabling the TensorFlow Model Analysis Widget for Jupyter "
   ]
  },
  {
   "cell_type": "code",
   "execution_count": null,
   "metadata": {},
   "outputs": [],
   "source": [
    "jupyter nbextension enable --py widgetsnbextension --user\n",
    "jupyter nbextension install --py --symlink tensorflow_model_analysis --user\n",
    "jupyter nbextension enable --py tensorflow_model_analysis --user"
   ]
  }
 ],
 "metadata": {
  "kernelspec": {
   "display_name": "Python 2",
   "language": "python",
   "name": "python2"
  },
  "language_info": {
   "codemirror_mode": {
    "name": "ipython",
    "version": 2
   },
   "file_extension": ".py",
   "mimetype": "text/x-python",
   "name": "python",
   "nbconvert_exporter": "python",
   "pygments_lexer": "ipython2",
   "version": "2.7.10"
  }
 },
 "nbformat": 4,
 "nbformat_minor": 2
}
